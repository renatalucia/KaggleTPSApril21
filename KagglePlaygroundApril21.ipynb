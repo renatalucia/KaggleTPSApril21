{
  "nbformat": 4,
  "nbformat_minor": 0,
  "metadata": {
    "colab": {
      "name": "KagglePlaygroundApril21.ipynb",
      "provenance": [],
      "collapsed_sections": [],
      "toc_visible": true,
      "authorship_tag": "ABX9TyPE8mDH12s2mskTGidOK2fa",
      "include_colab_link": true
    },
    "kernelspec": {
      "name": "python3",
      "display_name": "Python 3"
    },
    "language_info": {
      "name": "python"
    }
  },
  "cells": [
    {
      "cell_type": "markdown",
      "metadata": {
        "id": "view-in-github",
        "colab_type": "text"
      },
      "source": [
        "<a href=\"https://colab.research.google.com/github/renatalucia/KaggleTPSApril21/blob/main/KagglePlaygroundApril21.ipynb\" target=\"_parent\"><img src=\"https://colab.research.google.com/assets/colab-badge.svg\" alt=\"Open In Colab\"/></a>"
      ]
    },
    {
      "cell_type": "code",
      "metadata": {
        "colab": {
          "base_uri": "https://localhost:8080/"
        },
        "id": "IbX_5EHEHUvW",
        "outputId": "0f371b8d-0952-4b56-90f2-0b175ef68e84"
      },
      "source": [
        "!pip install --upgrade --force-reinstall --no-deps kaggle"
      ],
      "execution_count": 211,
      "outputs": [
        {
          "output_type": "stream",
          "text": [
            "Processing /root/.cache/pip/wheels/a1/6a/26/d30b7499ff85a4a4593377a87ecf55f7d08af42f0de9b60303/kaggle-1.5.12-cp37-none-any.whl\n",
            "Installing collected packages: kaggle\n",
            "  Found existing installation: kaggle 1.5.12\n",
            "    Uninstalling kaggle-1.5.12:\n",
            "      Successfully uninstalled kaggle-1.5.12\n",
            "Successfully installed kaggle-1.5.12\n"
          ],
          "name": "stdout"
        }
      ]
    },
    {
      "cell_type": "code",
      "metadata": {
        "colab": {
          "resources": {
            "http://localhost:8080/nbextensions/google.colab/files.js": {
              "data": "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",
              "ok": true,
              "headers": [
                [
                  "content-type",
                  "application/javascript"
                ]
              ],
              "status": 200,
              "status_text": ""
            }
          },
          "base_uri": "https://localhost:8080/",
          "height": 89
        },
        "id": "NBsZ61y_HWLH",
        "outputId": "f0ff70c3-997e-4726-88ed-8b153840b922"
      },
      "source": [
        "from google.colab import files\n",
        "files.upload()"
      ],
      "execution_count": 212,
      "outputs": [
        {
          "output_type": "display_data",
          "data": {
            "text/html": [
              "\n",
              "     <input type=\"file\" id=\"files-765e36c2-7013-4b66-b2f0-0e80f425672f\" name=\"files[]\" multiple disabled\n",
              "        style=\"border:none\" />\n",
              "     <output id=\"result-765e36c2-7013-4b66-b2f0-0e80f425672f\">\n",
              "      Upload widget is only available when the cell has been executed in the\n",
              "      current browser session. Please rerun this cell to enable.\n",
              "      </output>\n",
              "      <script src=\"/nbextensions/google.colab/files.js\"></script> "
            ],
            "text/plain": [
              "<IPython.core.display.HTML object>"
            ]
          },
          "metadata": {
            "tags": []
          }
        },
        {
          "output_type": "stream",
          "text": [
            "Saving kaggle.json to kaggle (1).json\n"
          ],
          "name": "stdout"
        },
        {
          "output_type": "execute_result",
          "data": {
            "text/plain": [
              "{'kaggle.json': b'{\"username\":\"renatalucia\",\"key\":\"7f35d1eff8235434d4449562279d1adb\"}'}"
            ]
          },
          "metadata": {
            "tags": []
          },
          "execution_count": 212
        }
      ]
    },
    {
      "cell_type": "code",
      "metadata": {
        "id": "tyoC0PzkH25k",
        "colab": {
          "base_uri": "https://localhost:8080/"
        },
        "outputId": "19baa40c-d7ea-4d94-a989-6adc0c73edbe"
      },
      "source": [
        "#Make directory named kaggle and copy kaggle.json file there.\n",
        "! mkdir ~/.kaggle\n",
        "\n",
        "! cp kaggle.json ~/.kaggle/\n",
        "\n",
        "#Change the permissions of the file.\n",
        "! chmod 600 ~/.kaggle/kaggle.json"
      ],
      "execution_count": 213,
      "outputs": [
        {
          "output_type": "stream",
          "text": [
            "mkdir: cannot create directory ‘/root/.kaggle’: File exists\n"
          ],
          "name": "stdout"
        }
      ]
    },
    {
      "cell_type": "code",
      "metadata": {
        "colab": {
          "base_uri": "https://localhost:8080/"
        },
        "id": "Q0fQszbeHiX8",
        "outputId": "329856fb-26ff-4378-941e-7548e3bf7ec1"
      },
      "source": [
        "!kaggle competitions download -c tabular-playground-series-apr-2021"
      ],
      "execution_count": 214,
      "outputs": [
        {
          "output_type": "stream",
          "text": [
            "tabular-playground-series-apr-2021.zip: Skipping, found more recently modified local copy (use --force to force download)\n"
          ],
          "name": "stdout"
        }
      ]
    },
    {
      "cell_type": "code",
      "metadata": {
        "colab": {
          "base_uri": "https://localhost:8080/"
        },
        "id": "dUNxKx1AH-QR",
        "outputId": "5b24c8a5-7067-4759-dfd0-6a296df64340"
      },
      "source": [
        "!ls /content"
      ],
      "execution_count": 215,
      "outputs": [
        {
          "output_type": "stream",
          "text": [
            " classification.csv    kaggle.json   tabular-playground-series-apr-2021.zip\n",
            " classifications.csv   playground\n",
            "'kaggle (1).json'      sample_data\n"
          ],
          "name": "stdout"
        }
      ]
    },
    {
      "cell_type": "code",
      "metadata": {
        "colab": {
          "base_uri": "https://localhost:8080/"
        },
        "id": "7yB91kJAIOlT",
        "outputId": "49ecce0a-90fd-43f6-8ab8-3bbe90086051"
      },
      "source": [
        "!unzip /content/tabular-playground-series-apr-2021.zip -d playground"
      ],
      "execution_count": 216,
      "outputs": [
        {
          "output_type": "stream",
          "text": [
            "Archive:  /content/tabular-playground-series-apr-2021.zip\n",
            "replace playground/sample_submission.csv? [y]es, [n]o, [A]ll, [N]one, [r]ename: y\n",
            "  inflating: playground/sample_submission.csv  \n",
            "replace playground/test.csv? [y]es, [n]o, [A]ll, [N]one, [r]ename: y\n",
            "  inflating: playground/test.csv     \n",
            "replace playground/train.csv? [y]es, [n]o, [A]ll, [N]one, [r]ename: y\n",
            "  inflating: playground/train.csv    \n"
          ],
          "name": "stdout"
        }
      ]
    },
    {
      "cell_type": "code",
      "metadata": {
        "id": "HFOcb9ncIvqU"
      },
      "source": [
        "import pandas as pd\n",
        "import numpy as np\n",
        "import matplotlib.pyplot as plt"
      ],
      "execution_count": 218,
      "outputs": []
    },
    {
      "cell_type": "code",
      "metadata": {
        "colab": {
          "base_uri": "https://localhost:8080/"
        },
        "id": "QbVpJ0pWIo2c",
        "outputId": "9b8a654c-ca74-49ab-bff1-1a91da9b4d62"
      },
      "source": [
        "df_train = pd.read_csv('/content/playground/train.csv')\n",
        "print(df_train.columns)\n",
        "print(len(df_train.columns))\n",
        "print(df_train.head(100))"
      ],
      "execution_count": 219,
      "outputs": [
        {
          "output_type": "stream",
          "text": [
            "Index(['PassengerId', 'Survived', 'Pclass', 'Name', 'Sex', 'Age', 'SibSp',\n",
            "       'Parch', 'Ticket', 'Fare', 'Cabin', 'Embarked'],\n",
            "      dtype='object')\n",
            "12\n",
            "    PassengerId  Survived  Pclass  ...    Fare   Cabin  Embarked\n",
            "0             0         1       1  ...   27.14  C12239         S\n",
            "1             1         0       3  ...   13.35     NaN         S\n",
            "2             2         0       3  ...   71.29     NaN         S\n",
            "3             3         0       3  ...   13.04     NaN         S\n",
            "4             4         1       3  ...    7.76     NaN         S\n",
            "..          ...       ...     ...  ...     ...     ...       ...\n",
            "95           95         1       2  ...   32.24     NaN         S\n",
            "96           96         1       2  ...   26.46     NaN         Q\n",
            "97           97         1       1  ...  131.28   D7415         Q\n",
            "98           98         1       2  ...   27.88     NaN         S\n",
            "99           99         1       1  ...  278.56  C16097         C\n",
            "\n",
            "[100 rows x 12 columns]\n"
          ],
          "name": "stdout"
        }
      ]
    },
    {
      "cell_type": "code",
      "metadata": {
        "colab": {
          "base_uri": "https://localhost:8080/"
        },
        "id": "njSBU7kCgQg5",
        "outputId": "2fe0a788-adcf-4c8b-d2ee-047da16404a5"
      },
      "source": [
        "df_test = pd.read_csv('/content/playground/test.csv')\n",
        "print(df_test.columns)\n",
        "print(len(df_test.columns))\n",
        "print(df_test.head(100))"
      ],
      "execution_count": 113,
      "outputs": [
        {
          "output_type": "stream",
          "text": [
            "Index(['PassengerId', 'Pclass', 'Name', 'Sex', 'Age', 'SibSp', 'Parch',\n",
            "       'Ticket', 'Fare', 'Cabin', 'Embarked'],\n",
            "      dtype='object')\n",
            "11\n",
            "    PassengerId  Pclass              Name  ...   Fare   Cabin  Embarked\n",
            "0        100000       3  Holliday, Daniel  ...  63.01     NaN         S\n",
            "1        100001       3  Nguyen, Lorraine  ...   5.81     NaN         S\n",
            "2        100002       1   Harris, Heather  ...  38.91  B15315         C\n",
            "3        100003       2      Larsen, Eric  ...  12.93     NaN         S\n",
            "4        100004       1     Cleary, Sarah  ...  26.89  B22515         C\n",
            "..          ...     ...               ...  ...    ...     ...       ...\n",
            "95       100095       3     Guzma, Donald  ...   8.48     NaN         S\n",
            "96       100096       3     Mclean, Robin  ...  12.76     NaN         C\n",
            "97       100097       2    Lopez, Darlene  ...   6.17     NaN         S\n",
            "98       100098       3     Tobe, Enrique  ...  11.64  A10911         S\n",
            "99       100099       3   Ricker, Matthew  ...  31.12     NaN         S\n",
            "\n",
            "[100 rows x 11 columns]\n"
          ],
          "name": "stdout"
        }
      ]
    },
    {
      "cell_type": "code",
      "metadata": {
        "colab": {
          "base_uri": "https://localhost:8080/"
        },
        "id": "1pJRwNPRgcM6",
        "outputId": "72127486-8b15-4e30-a3bf-e10c90c58060"
      },
      "source": [
        "print(df_train.shape)\n",
        "print(df_test.shape)"
      ],
      "execution_count": null,
      "outputs": [
        {
          "output_type": "stream",
          "text": [
            "(100000, 12)\n",
            "(100000, 11)\n"
          ],
          "name": "stdout"
        }
      ]
    },
    {
      "cell_type": "code",
      "metadata": {
        "colab": {
          "base_uri": "https://localhost:8080/",
          "height": 204
        },
        "id": "zc1gqjs6hYIa",
        "outputId": "ad26a9d8-3ed8-43dd-ed2f-7d85a6b6f258"
      },
      "source": [
        "pd.set_option('display.max_columns', 12)\n",
        "pd.set_option('display.width', 1000)\n",
        "df_train.head()"
      ],
      "execution_count": null,
      "outputs": [
        {
          "output_type": "execute_result",
          "data": {
            "text/html": [
              "<div>\n",
              "<style scoped>\n",
              "    .dataframe tbody tr th:only-of-type {\n",
              "        vertical-align: middle;\n",
              "    }\n",
              "\n",
              "    .dataframe tbody tr th {\n",
              "        vertical-align: top;\n",
              "    }\n",
              "\n",
              "    .dataframe thead th {\n",
              "        text-align: right;\n",
              "    }\n",
              "</style>\n",
              "<table border=\"1\" class=\"dataframe\">\n",
              "  <thead>\n",
              "    <tr style=\"text-align: right;\">\n",
              "      <th></th>\n",
              "      <th>PassengerId</th>\n",
              "      <th>Survived</th>\n",
              "      <th>Pclass</th>\n",
              "      <th>Name</th>\n",
              "      <th>Sex</th>\n",
              "      <th>Age</th>\n",
              "      <th>SibSp</th>\n",
              "      <th>Parch</th>\n",
              "      <th>Ticket</th>\n",
              "      <th>Fare</th>\n",
              "      <th>Cabin</th>\n",
              "      <th>Embarked</th>\n",
              "    </tr>\n",
              "  </thead>\n",
              "  <tbody>\n",
              "    <tr>\n",
              "      <th>0</th>\n",
              "      <td>0</td>\n",
              "      <td>1</td>\n",
              "      <td>1</td>\n",
              "      <td>Oconnor, Frankie</td>\n",
              "      <td>male</td>\n",
              "      <td>NaN</td>\n",
              "      <td>2</td>\n",
              "      <td>0</td>\n",
              "      <td>209245</td>\n",
              "      <td>27.14</td>\n",
              "      <td>C12239</td>\n",
              "      <td>S</td>\n",
              "    </tr>\n",
              "    <tr>\n",
              "      <th>1</th>\n",
              "      <td>1</td>\n",
              "      <td>0</td>\n",
              "      <td>3</td>\n",
              "      <td>Bryan, Drew</td>\n",
              "      <td>male</td>\n",
              "      <td>NaN</td>\n",
              "      <td>0</td>\n",
              "      <td>0</td>\n",
              "      <td>27323</td>\n",
              "      <td>13.35</td>\n",
              "      <td>NaN</td>\n",
              "      <td>S</td>\n",
              "    </tr>\n",
              "    <tr>\n",
              "      <th>2</th>\n",
              "      <td>2</td>\n",
              "      <td>0</td>\n",
              "      <td>3</td>\n",
              "      <td>Owens, Kenneth</td>\n",
              "      <td>male</td>\n",
              "      <td>0.33</td>\n",
              "      <td>1</td>\n",
              "      <td>2</td>\n",
              "      <td>CA 457703</td>\n",
              "      <td>71.29</td>\n",
              "      <td>NaN</td>\n",
              "      <td>S</td>\n",
              "    </tr>\n",
              "    <tr>\n",
              "      <th>3</th>\n",
              "      <td>3</td>\n",
              "      <td>0</td>\n",
              "      <td>3</td>\n",
              "      <td>Kramer, James</td>\n",
              "      <td>male</td>\n",
              "      <td>19.00</td>\n",
              "      <td>0</td>\n",
              "      <td>0</td>\n",
              "      <td>A. 10866</td>\n",
              "      <td>13.04</td>\n",
              "      <td>NaN</td>\n",
              "      <td>S</td>\n",
              "    </tr>\n",
              "    <tr>\n",
              "      <th>4</th>\n",
              "      <td>4</td>\n",
              "      <td>1</td>\n",
              "      <td>3</td>\n",
              "      <td>Bond, Michael</td>\n",
              "      <td>male</td>\n",
              "      <td>25.00</td>\n",
              "      <td>0</td>\n",
              "      <td>0</td>\n",
              "      <td>427635</td>\n",
              "      <td>7.76</td>\n",
              "      <td>NaN</td>\n",
              "      <td>S</td>\n",
              "    </tr>\n",
              "  </tbody>\n",
              "</table>\n",
              "</div>"
            ],
            "text/plain": [
              "   PassengerId  Survived  Pclass              Name   Sex    Age  SibSp  Parch     Ticket   Fare   Cabin Embarked\n",
              "0            0         1       1  Oconnor, Frankie  male    NaN      2      0     209245  27.14  C12239        S\n",
              "1            1         0       3       Bryan, Drew  male    NaN      0      0      27323  13.35     NaN        S\n",
              "2            2         0       3    Owens, Kenneth  male   0.33      1      2  CA 457703  71.29     NaN        S\n",
              "3            3         0       3     Kramer, James  male  19.00      0      0   A. 10866  13.04     NaN        S\n",
              "4            4         1       3     Bond, Michael  male  25.00      0      0     427635   7.76     NaN        S"
            ]
          },
          "metadata": {
            "tags": []
          },
          "execution_count": 15
        }
      ]
    },
    {
      "cell_type": "code",
      "metadata": {
        "colab": {
          "base_uri": "https://localhost:8080/"
        },
        "id": "bU4eCAmpgPVD",
        "outputId": "5513bd23-2696-4dac-a90e-053dcfe22cc6"
      },
      "source": [
        "# Check missing values\n",
        "print('Missing values per columns in train dataset')\n",
        "for col in df_train.columns:\n",
        "    temp_col = df_train[col].isnull().sum()\n",
        "    print(f'{col}: {temp_col}')\n",
        "print()\n",
        "print('Missing values per columns in test dataset')\n",
        "for col in df_test.columns:\n",
        "    temp_col = df_test[col].isnull().sum()\n",
        "    print(f'{col}: {temp_col}')"
      ],
      "execution_count": null,
      "outputs": [
        {
          "output_type": "stream",
          "text": [
            "Missing values per columns in train dataset\n",
            "PassengerId: 0\n",
            "Survived: 0\n",
            "Pclass: 0\n",
            "Name: 0\n",
            "Sex: 0\n",
            "Age: 3292\n",
            "SibSp: 0\n",
            "Parch: 0\n",
            "Ticket: 4623\n",
            "Fare: 134\n",
            "Cabin: 67866\n",
            "Embarked: 250\n",
            "\n",
            "Missing values per columns in test dataset\n",
            "PassengerId: 0\n",
            "Pclass: 0\n",
            "Name: 0\n",
            "Sex: 0\n",
            "Age: 3487\n",
            "SibSp: 0\n",
            "Parch: 0\n",
            "Ticket: 5181\n",
            "Fare: 133\n",
            "Cabin: 70831\n",
            "Embarked: 277\n"
          ],
          "name": "stdout"
        }
      ]
    },
    {
      "cell_type": "markdown",
      "metadata": {
        "id": "4Auue0rVa9u7"
      },
      "source": [
        "# Check distribution of target value"
      ]
    },
    {
      "cell_type": "code",
      "metadata": {
        "colab": {
          "base_uri": "https://localhost:8080/"
        },
        "id": "PmiZTbHsiZJ8",
        "outputId": "f114a6e1-dc15-466a-dda5-3cd0f0275446"
      },
      "source": [
        "df_dist = df_train[\"Survived\"].value_counts()\n",
        "print(df_dist)\n",
        "print()\n",
        "print(\"Not Survived: \" + str(np.array(df_dist)[0]/np.array(df_dist).sum()) + \"%\")\n",
        "print(\"Survived: \" + str(np.array(df_dist)[1]/np.array(df_dist).sum()) + \"%\")"
      ],
      "execution_count": null,
      "outputs": [
        {
          "output_type": "stream",
          "text": [
            "0    57226\n",
            "1    42774\n",
            "Name: Survived, dtype: int64\n",
            "\n",
            "Not Survived: 0.57226%\n",
            "Survived: 0.42774%\n"
          ],
          "name": "stdout"
        }
      ]
    },
    {
      "cell_type": "code",
      "metadata": {
        "colab": {
          "base_uri": "https://localhost:8080/",
          "height": 269
        },
        "id": "qC9dy-eZkQRD",
        "outputId": "b67073d5-8e38-4b21-8df8-a5f00312142f"
      },
      "source": [
        "plt.bar([\"0\",\"1\"], np.array(df_dist))\n",
        "plt.show()"
      ],
      "execution_count": null,
      "outputs": [
        {
          "output_type": "display_data",
          "data": {
            "image/png": "[encoded data removed]",
            "text/plain": [
              "<Figure size 432x288 with 1 Axes>"
            ]
          },
          "metadata": {
            "tags": [],
            "needs_background": "light"
          }
        }
      ]
    },
    {
      "cell_type": "markdown",
      "metadata": {
        "id": "Bo2iNV1ZbT9q"
      },
      "source": [
        "# Check features distributions"
      ]
    },
    {
      "cell_type": "code",
      "metadata": {
        "colab": {
          "base_uri": "https://localhost:8080/"
        },
        "id": "Uiw4oEFgANKn",
        "outputId": "99800f4e-7dee-404c-df44-13ab2640167a"
      },
      "source": [
        "\n",
        "num_instances = len(df_train)\n",
        "print(num_instances)\n",
        "for col in df_train.columns:\n",
        "  \n",
        "  if col==\"PassengerId\":\n",
        "    continue\n",
        "  if col==\"Survived\":\n",
        "    continue\n",
        "  if col==\"Name\":\n",
        "    continue\n",
        "  print()\n",
        "  print(\"**\" + col + \"**\")\n",
        "  s = df_train[col].value_counts()\n",
        "  df_feat_dist = pd.DataFrame({col: s.index, \"sum\":s.values})\n",
        "  df_feat_dist[\"%\"] = df_feat_dist[\"sum\"]/num_instances\n",
        "  print(df_feat_dist)\n",
        "\n",
        "\n",
        "# TODO:\n",
        "# Group age in categories (?)"
      ],
      "execution_count": null,
      "outputs": [
        {
          "output_type": "stream",
          "text": [
            "100000\n",
            "\n",
            "**Pclass**\n",
            "   Pclass    sum        %\n",
            "0       3  41006  0.41006\n",
            "1       1  30315  0.30315\n",
            "2       2  28679  0.28679\n",
            "\n",
            "**Sex**\n",
            "      Sex    sum        %\n",
            "0    male  56114  0.56114\n",
            "1  female  43886  0.43886\n",
            "\n",
            "**Age**\n",
            "      Age   sum        %\n",
            "0    25.0  2354  0.02354\n",
            "1    23.0  2345  0.02345\n",
            "2    26.0  2320  0.02320\n",
            "3    24.0  2298  0.02298\n",
            "4    27.0  2088  0.02088\n",
            "..    ...   ...      ...\n",
            "168  69.5     1  0.00001\n",
            "169  87.0     1  0.00001\n",
            "170  74.5     1  0.00001\n",
            "171  78.5     1  0.00001\n",
            "172  80.5     1  0.00001\n",
            "\n",
            "[173 rows x 3 columns]\n",
            "\n",
            "**SibSp**\n",
            "   SibSp    sum        %\n",
            "0      0  73308  0.73308\n",
            "1      1  19758  0.19758\n",
            "2      2   3703  0.03703\n",
            "3      3   1635  0.01635\n",
            "4      4   1168  0.01168\n",
            "5      8    296  0.00296\n",
            "6      5    132  0.00132\n",
            "\n",
            "**Parch**\n",
            "   Parch    sum        %\n",
            "0      0  73540  0.73540\n",
            "1      1  12996  0.12996\n",
            "2      2  11236  0.11236\n",
            "3      3    983  0.00983\n",
            "4      4    446  0.00446\n",
            "5      5    331  0.00331\n",
            "6      9    264  0.00264\n",
            "7      6    204  0.00204\n",
            "\n",
            "**Ticket**\n",
            "                Ticket  sum        %\n",
            "0                 A/5   602  0.00602\n",
            "1                C.A.   177  0.00177\n",
            "2            SC/PARIS   145  0.00145\n",
            "3          SOTON/O.Q.    80  0.00080\n",
            "4                  SC    57  0.00057\n",
            "...                ...  ...      ...\n",
            "75326      C.A. 430838    1  0.00001\n",
            "75327  S.C./PARIS 8986    1  0.00001\n",
            "75328            36754    1  0.00001\n",
            "75329            41233    1  0.00001\n",
            "75330            11224    1  0.00001\n",
            "\n",
            "[75331 rows x 3 columns]\n",
            "\n",
            "**Fare**\n",
            "         Fare  sum        %\n",
            "0        9.27   87  0.00087\n",
            "1        9.85   87  0.00087\n",
            "2        9.79   86  0.00086\n",
            "3        9.20   85  0.00085\n",
            "4        9.45   83  0.00083\n",
            "...       ...  ...      ...\n",
            "15930  116.37    1  0.00001\n",
            "15931   92.61    1  0.00001\n",
            "15932  234.53    1  0.00001\n",
            "15933  167.70    1  0.00001\n",
            "15934  241.34    1  0.00001\n",
            "\n",
            "[15935 rows x 3 columns]\n",
            "\n",
            "**Cabin**\n",
            "        Cabin  sum        %\n",
            "0      C19828    6  0.00006\n",
            "1      C13699    5  0.00005\n",
            "2      B11110    5  0.00005\n",
            "3       A9127    5  0.00005\n",
            "4      C11283    5  0.00005\n",
            "...       ...  ...      ...\n",
            "26987   D9625    1  0.00001\n",
            "26988  C17016    1  0.00001\n",
            "26989  C17258    1  0.00001\n",
            "26990   C3629    1  0.00001\n",
            "26991   E9816    1  0.00001\n",
            "\n",
            "[26992 rows x 3 columns]\n",
            "\n",
            "**Embarked**\n",
            "  Embarked    sum        %\n",
            "0        S  72139  0.72139\n",
            "1        C  22187  0.22187\n",
            "2        Q   5424  0.05424\n"
          ],
          "name": "stdout"
        }
      ]
    },
    {
      "cell_type": "markdown",
      "metadata": {
        "id": "abt9purdbjep"
      },
      "source": [
        "# Missing values per columns in train dataset"
      ]
    },
    {
      "cell_type": "code",
      "metadata": {
        "colab": {
          "base_uri": "https://localhost:8080/"
        },
        "id": "bPR8shaJH-lg",
        "outputId": "09faf228-d712-4dd5-8d68-05d82aa3bee0"
      },
      "source": [
        "print('Missing values per columns in train dataset')\n",
        "for col in df_train.columns:\n",
        "    temp_col = df_train[col].isnull().sum()\n",
        "    print(f'{col}: {temp_col}')"
      ],
      "execution_count": null,
      "outputs": [
        {
          "output_type": "stream",
          "text": [
            "Missing values per columns in train dataset\n",
            "PassengerId: 0\n",
            "Survived: 0\n",
            "Pclass: 0\n",
            "Name: 0\n",
            "Sex: 0\n",
            "Age: 3292\n",
            "SibSp: 0\n",
            "Parch: 0\n",
            "Ticket: 4623\n",
            "Fare: 134\n",
            "Cabin: 67866\n",
            "Embarked: 250\n"
          ],
          "name": "stdout"
        }
      ]
    },
    {
      "cell_type": "markdown",
      "metadata": {
        "id": "QUe6tBKOtx7x"
      },
      "source": [
        "# Feature Preprocessing"
      ]
    },
    {
      "cell_type": "code",
      "metadata": {
        "id": "npaSgTl8t1vj"
      },
      "source": [
        "df_train[\"Cabin_code\"] = df_train[\"Cabin\"].str[0]\n",
        "df_test[\"Cabin_code\"] = df_test[\"Cabin\"].str[0]"
      ],
      "execution_count": null,
      "outputs": []
    },
    {
      "cell_type": "markdown",
      "metadata": {
        "id": "UmskFeEgbp3O"
      },
      "source": [
        "# Categorical columns preprocessing"
      ]
    },
    {
      "cell_type": "code",
      "metadata": {
        "id": "xP3gvFp1L-Fm"
      },
      "source": [
        "df_train[\"Sex\"] = pd.Categorical(df_train[\"Sex\"])\n",
        "df_train[\"Sex\"] = np.array(df_train.Sex.cat.codes)"
      ],
      "execution_count": null,
      "outputs": []
    },
    {
      "cell_type": "code",
      "metadata": {
        "id": "azSN0yCGdO2b"
      },
      "source": [
        "df_train[\"Embarked\"] = pd.Categorical(df_train[\"Embarked\"])\n",
        "\n",
        "# Add 1 because NAN was map to -1\n",
        "df_train[\"Embarked\"] = np.array(df_train.Embarked.cat.codes + 1)"
      ],
      "execution_count": null,
      "outputs": []
    },
    {
      "cell_type": "code",
      "metadata": {
        "id": "7ZL7h668iJzf"
      },
      "source": [
        "df_train[\"Ticket\"] = pd.Categorical(df_train[\"Ticket\"])\n",
        "\n",
        "# Add 1 because NAN was map to -1\n",
        "df_train[\"Ticket\"] = np.array(df_train.Ticket.cat.codes + 1)"
      ],
      "execution_count": null,
      "outputs": []
    },
    {
      "cell_type": "code",
      "metadata": {
        "id": "AZsNjjUXiPNe"
      },
      "source": [
        "df_train[\"Cabin\"] = pd.Categorical(df_train[\"Cabin\"])\n",
        "\n",
        "# Add 1 because NAN was map to -1\n",
        "df_train[\"Cabin\"] = np.array(df_train.Cabin.cat.codes + 1)"
      ],
      "execution_count": null,
      "outputs": []
    },
    {
      "cell_type": "markdown",
      "metadata": {
        "id": "36wwWCJVpmgm"
      },
      "source": [
        "# Survival rates according to parameters\n"
      ]
    },
    {
      "cell_type": "code",
      "metadata": {
        "colab": {
          "base_uri": "https://localhost:8080/",
          "height": 1000
        },
        "id": "H73nQjoApo4o",
        "outputId": "b481428c-c407-455b-f524-37548a82eb22"
      },
      "source": [
        "total_pessengers = len(df_train)\n",
        "for col in df_train.columns:\n",
        "\n",
        "\n",
        "  if col not in  [\n",
        "                 \"Pclass\", \"SibSp\",\"Parch\", \n",
        "                 \"Embarked\" , \"Sex\", \"Cabin_code\"]:\n",
        "\n",
        "  #if col not in  [\n",
        "  #              \"Sex\"]:\n",
        "\n",
        "    continue\n",
        "\n",
        "  df_survived = df_train.loc[df_train['Survived'] == 1][col].value_counts()\n",
        "  df_survived_perc = df_survived / total_pessengers\n",
        "  df_not_survived = df_train.loc[df_train['Survived'] == 0][col].value_counts()\n",
        "  df_not_survived_perc = df_not_survived / total_pessengers\n",
        "\n",
        "\n",
        "  xlabels = []\n",
        "  y1values = []\n",
        "  y2values = []\n",
        "  for k, v in df_survived_perc.items():\n",
        "    xlabels.append(k)\n",
        "    y1values.append(df_survived_perc[k])\n",
        "    y2values.append(df_not_survived_perc[k])\n",
        "\n",
        "  # creating dataframe\n",
        "  df = pd.DataFrame({\n",
        "      col: xlabels,\n",
        "      'Survived': y1values,\n",
        "      'Not Survived': y2values\n",
        "  })\n",
        "\n",
        "  df.plot(x=col, \n",
        "          y=[\"Survived\", \"Not Survived\"], \n",
        "          kind=\"bar\",\n",
        "          title=\" {} - % with respect to total passengers\".format(col))\n",
        "  plt.show()\n",
        "\n",
        "\n",
        "  #df_survived_perc.plot(x=df_survived_perc.values, \n",
        "  #                      y=np.array(df_survived_perc.index), \n",
        "  #                      kind=\"bar\", \n",
        "  #                      title=\" {} - % with respect to total passengers\".format(col))\n",
        "  #plt.show()\n",
        "  \n",
        "  df_total = df_train[col].value_counts()\n",
        "\n",
        "  df_survived_perc = df_survived / df_total\n",
        "  df_survived_perc.plot(x=df_survived_perc.values, \n",
        "                        y=np.array(df_survived_perc.index), \n",
        "                        kind=\"bar\", \n",
        "                        color = \"orange\",\n",
        "                        title=\"{} - %s with respect to total passengers with same col value\".format(col))\n",
        "  plt.show()\n",
        "  print()"
      ],
      "execution_count": null,
      "outputs": [
        {
          "output_type": "display_data",
          "data": {
            "image/png": "[encoded data removed]",
            "text/plain": [
              "<Figure size 432x288 with 1 Axes>"
            ]
          },
          "metadata": {
            "tags": [],
            "needs_background": "light"
          }
        },
        {
          "output_type": "display_data",
          "data": {
            "image/png": "[encoded data removed]",
            "text/plain": [
              "<Figure size 432x288 with 1 Axes>"
            ]
          },
          "metadata": {
            "tags": [],
            "needs_background": "light"
          }
        },
        {
          "output_type": "stream",
          "text": [
            "\n"
          ],
          "name": "stdout"
        },
        {
          "output_type": "display_data",
          "data": {
            "image/png": "[encoded data removed]",
            "text/plain": [
              "<Figure size 432x288 with 1 Axes>"
            ]
          },
          "metadata": {
            "tags": [],
            "needs_background": "light"
          }
        },
        {
          "output_type": "display_data",
          "data": {
            "image/png": "[encoded data removed]",
            "text/plain": [
              "<Figure size 432x288 with 1 Axes>"
            ]
          },
          "metadata": {
            "tags": [],
            "needs_background": "light"
          }
        },
        {
          "output_type": "stream",
          "text": [
            "\n"
          ],
          "name": "stdout"
        },
        {
          "output_type": "display_data",
          "data": {
            "image/png": "[encoded data removed]",
            "text/plain": [
              "<Figure size 432x288 with 1 Axes>"
            ]
          },
          "metadata": {
            "tags": [],
            "needs_background": "light"
          }
        },
        {
          "output_type": "display_data",
          "data": {
            "image/png": "[encoded data removed]",
            "text/plain": [
              "<Figure size 432x288 with 1 Axes>"
            ]
          },
          "metadata": {
            "tags": [],
            "needs_background": "light"
          }
        },
        {
          "output_type": "stream",
          "text": [
            "\n"
          ],
          "name": "stdout"
        },
        {
          "output_type": "display_data",
          "data": {
            "image/png": "[encoded data removed]",
            "text/plain": [
              "<Figure size 432x288 with 1 Axes>"
            ]
          },
          "metadata": {
            "tags": [],
            "needs_background": "light"
          }
        },
        {
          "output_type": "display_data",
          "data": {
            "image/png": "[encoded data removed]",
            "text/plain": [
              "<Figure size 432x288 with 1 Axes>"
            ]
          },
          "metadata": {
            "tags": [],
            "needs_background": "light"
          }
        },
        {
          "output_type": "stream",
          "text": [
            "\n"
          ],
          "name": "stdout"
        },
        {
          "output_type": "display_data",
          "data": {
            "image/png": "[encoded data removed]",
            "text/plain": [
              "<Figure size 432x288 with 1 Axes>"
            ]
          },
          "metadata": {
            "tags": [],
            "needs_background": "light"
          }
        },
        {
          "output_type": "display_data",
          "data": {
            "image/png": "[encoded data removed]",
            "text/plain": [
              "<Figure size 432x288 with 1 Axes>"
            ]
          },
          "metadata": {
            "tags": [],
            "needs_background": "light"
          }
        },
        {
          "output_type": "stream",
          "text": [
            "\n"
          ],
          "name": "stdout"
        },
        {
          "output_type": "display_data",
          "data": {
            "image/png": "[encoded data removed]",
            "text/plain": [
              "<Figure size 432x288 with 1 Axes>"
            ]
          },
          "metadata": {
            "tags": [],
            "needs_background": "light"
          }
        },
        {
          "output_type": "display_data",
          "data": {
            "image/png": "[encoded data removed]",
            "text/plain": [
              "<Figure size 432x288 with 1 Axes>"
            ]
          },
          "metadata": {
            "tags": [],
            "needs_background": "light"
          }
        },
        {
          "output_type": "stream",
          "text": [
            "\n"
          ],
          "name": "stdout"
        }
      ]
    },
    {
      "cell_type": "code",
      "metadata": {
        "id": "YSV-0fGBCeS2"
      },
      "source": [
        ""
      ],
      "execution_count": null,
      "outputs": []
    },
    {
      "cell_type": "code",
      "metadata": {
        "colab": {
          "base_uri": "https://localhost:8080/",
          "height": 513
        },
        "id": "7YWCVfkappCI",
        "outputId": "fc95a499-b05a-44b4-d8a9-59f3191938be"
      },
      "source": [
        "for col in [\"Age\", \"Fare\"]:\n",
        "  df_train.loc[df_train[\"Survived\"]==1][col].plot(kind='kde', \n",
        "                                               legend=True, \n",
        "                                               label = \"Survived\",\n",
        "                                               xlim= [df_train[col].min(), \n",
        "                                                      df_train[col].max()])\n",
        "  \n",
        "  df_train.loc[df_train[\"Survived\"]==0][col].plot(kind='kde', \n",
        "                                               legend=True, \n",
        "                                               color = \"orange\",\n",
        "                                               label = \"Not Survived\",\n",
        "                                               xlim= [df_train[col].min(), \n",
        "                                                      df_train[col].max()])\n",
        "  plt.show()"
      ],
      "execution_count": null,
      "outputs": [
        {
          "output_type": "display_data",
          "data": {
            "image/png": "[encoded data removed]",
            "text/plain": [
              "<Figure size 432x288 with 1 Axes>"
            ]
          },
          "metadata": {
            "tags": [],
            "needs_background": "light"
          }
        },
        {
          "output_type": "display_data",
          "data": {
            "image/png": "[encoded data removed]",
            "text/plain": [
              "<Figure size 432x288 with 1 Axes>"
            ]
          },
          "metadata": {
            "tags": [],
            "needs_background": "light"
          }
        }
      ]
    },
    {
      "cell_type": "code",
      "metadata": {
        "id": "AL5dxOBCppL0"
      },
      "source": [
        "df_train.loc[df_train[\"Survived\"]==1].Fare.plot(kind='kde', \n",
        "                                               legend=True, \n",
        "                                               xlim= [df_train[\"Fare\"].min(), \n",
        "                                                      df_train[\"Fare\"].max()])"
      ],
      "execution_count": null,
      "outputs": []
    },
    {
      "cell_type": "markdown",
      "metadata": {
        "id": "1Jd0OIdbu3rl"
      },
      "source": [
        "# Categorical columns preprocessing"
      ]
    },
    {
      "cell_type": "code",
      "metadata": {
        "id": "k3E6AGMlu3rl"
      },
      "source": [
        "df_train[\"Sex\"] = pd.Categorical(df_train[\"Sex\"])\n",
        "df_train[\"Sex\"] = np.array(df_train.Sex.cat.codes)"
      ],
      "execution_count": null,
      "outputs": []
    },
    {
      "cell_type": "code",
      "metadata": {
        "id": "jjxC2q3Mu3rm"
      },
      "source": [
        "df_train[\"Embarked\"] = pd.Categorical(df_train[\"Embarked\"])\n",
        "\n",
        "# Add 1 because NAN was map to -1\n",
        "df_train[\"Embarked\"] = np.array(df_train.Embarked.cat.codes + 1)"
      ],
      "execution_count": null,
      "outputs": []
    },
    {
      "cell_type": "code",
      "metadata": {
        "id": "hzvOxsz2u3rm"
      },
      "source": [
        "df_train[\"Ticket\"] = pd.Categorical(df_train[\"Ticket\"])\n",
        "\n",
        "# Add 1 because NAN was map to -1\n",
        "df_train[\"Ticket\"] = np.array(df_train.Ticket.cat.codes + 1)"
      ],
      "execution_count": null,
      "outputs": []
    },
    {
      "cell_type": "code",
      "metadata": {
        "id": "WWDNwj1bu3rm"
      },
      "source": [
        "df_train[\"Cabin_code\"] = pd.Categorical(df_train[\"Cabin_code\"])\n",
        "\n",
        "# Add 1 because NAN was map to -1\n",
        "df_train[\"Cabin_code\"] = np.array(df_train.Cabin_code.cat.codes + 1)"
      ],
      "execution_count": null,
      "outputs": []
    },
    {
      "cell_type": "markdown",
      "metadata": {
        "id": "8WSrfqeCb1zq"
      },
      "source": [
        "# Search best features for the classification problem"
      ]
    },
    {
      "cell_type": "code",
      "metadata": {
        "id": "2iTXcbfpRaFK"
      },
      "source": [
        "x_train = np.array(df_train[[\"PassengerId\", \"Ticket\", \"Cabin_code\", \n",
        "                             \"Fare\", \"Pclass\", \"SibSp\",\"Parch\", \n",
        "                             \"Embarked\", \"Sex\", \"Age\"]].fillna(0))\n",
        "\n",
        "feature_names = [\"PassengerId\", \"Ticket\", \"Cabin_code\", \n",
        "                 \"Fare\", \"Pclass\", \"SibSp\",\"Parch\", \n",
        "                 \"Embarked\" , \"Sex\", \"Age\"]"
      ],
      "execution_count": null,
      "outputs": []
    },
    {
      "cell_type": "code",
      "metadata": {
        "colab": {
          "base_uri": "https://localhost:8080/"
        },
        "id": "vdwGdqJYXFEc",
        "outputId": "f7f13d85-68a2-4d0e-d66b-2e928c893a83"
      },
      "source": [
        "x_train"
      ],
      "execution_count": null,
      "outputs": [
        {
          "output_type": "execute_result",
          "data": {
            "text/plain": [
              "array([[0.0000e+00, 1.0358e+04, 3.0000e+00, ..., 3.0000e+00, 1.0000e+00,\n",
              "        0.0000e+00],\n",
              "       [1.0000e+00, 1.7044e+04, 0.0000e+00, ..., 3.0000e+00, 1.0000e+00,\n",
              "        0.0000e+00],\n",
              "       [2.0000e+00, 5.9885e+04, 0.0000e+00, ..., 3.0000e+00, 1.0000e+00,\n",
              "        3.3000e-01],\n",
              "       ...,\n",
              "       [9.9997e+04, 0.0000e+00, 0.0000e+00, ..., 3.0000e+00, 1.0000e+00,\n",
              "        3.7000e+01],\n",
              "       [9.9998e+04, 4.3481e+04, 0.0000e+00, ..., 3.0000e+00, 1.0000e+00,\n",
              "        5.1000e+01],\n",
              "       [9.9999e+04, 4.3335e+04, 0.0000e+00, ..., 3.0000e+00, 1.0000e+00,\n",
              "        5.5000e+01]])"
            ]
          },
          "metadata": {
            "tags": []
          },
          "execution_count": 110
        }
      ]
    },
    {
      "cell_type": "code",
      "metadata": {
        "id": "4xyTL6eNRTgI"
      },
      "source": [
        "y_train = np.array(df_train[\"Survived\"])"
      ],
      "execution_count": null,
      "outputs": []
    },
    {
      "cell_type": "code",
      "metadata": {
        "colab": {
          "base_uri": "https://localhost:8080/"
        },
        "id": "5G9moukHQ9Rq",
        "outputId": "cac91155-862b-4144-83e9-9bf03f092adb"
      },
      "source": [
        "from sklearn.feature_selection import SelectKBest\n",
        "from sklearn.feature_selection import chi2\n",
        "from sklearn.feature_selection import f_classif\n",
        "fs = SelectKBest(score_func=f_classif, k='all')\n",
        "fs.fit(x_train, y_train)\n",
        "#X_train_fs = fs.transform(x_train)\n",
        "#X_test_fs = fs.transform(X_test)"
      ],
      "execution_count": null,
      "outputs": [
        {
          "output_type": "execute_result",
          "data": {
            "text/plain": [
              "SelectKBest(k='all', score_func=<function f_classif at 0x7f7fd68c6560>)"
            ]
          },
          "metadata": {
            "tags": []
          },
          "execution_count": 117
        }
      ]
    },
    {
      "cell_type": "code",
      "metadata": {
        "colab": {
          "base_uri": "https://localhost:8080/"
        },
        "id": "tsF6Y36eTBfn",
        "outputId": "b1ec5e53-47df-40ab-b330-2ad38c3dd512"
      },
      "source": [
        "for i in range(len(fs.scores_)):\n",
        "\tprint('Feature %s: %f' % (feature_names[i], fs.scores_[i]))"
      ],
      "execution_count": null,
      "outputs": [
        {
          "output_type": "stream",
          "text": [
            "Feature PassengerId: 0.382420\n",
            "Feature Ticket: 185.097274\n",
            "Feature Cabin_code: 9264.689754\n",
            "Feature Fare: 3635.991548\n",
            "Feature Pclass: 9162.873065\n",
            "Feature SibSp: 5.756985\n",
            "Feature Parch: 54.559563\n",
            "Feature Embarked: 15647.226738\n",
            "Feature Sex: 34645.490634\n",
            "Feature Age: 962.103538\n"
          ],
          "name": "stdout"
        }
      ]
    },
    {
      "cell_type": "code",
      "metadata": {
        "colab": {
          "base_uri": "https://localhost:8080/"
        },
        "id": "vELE7_lNmKey",
        "outputId": "078981d9-f508-4d0a-c241-9f7e5afea2ad"
      },
      "source": [
        "# Looking deeper at feature \"Cabin\"\n",
        "# \"Cabin\" == 0 corresponds to null values\n",
        "# From the values feature \"Cabin\" is not relevant \n",
        "\n",
        "print(\"Number of survived per Cabin\")\n",
        "print(df_train.groupby('Cabin')[\"Survived\"].sum())\n",
        "print()\n",
        "print(\"Number of passengers per Cabin\")\n",
        "df_train.groupby('Cabin')[\"Survived\"].count()"
      ],
      "execution_count": null,
      "outputs": [
        {
          "output_type": "stream",
          "text": [
            "Number of survived per Cabin\n",
            "Cabin\n",
            "0        23217\n",
            "1            1\n",
            "2            0\n",
            "3            0\n",
            "4            0\n",
            "         ...  \n",
            "26988        1\n",
            "26989        0\n",
            "26990        1\n",
            "26991        0\n",
            "26992        0\n",
            "Name: Survived, Length: 26993, dtype: int64\n",
            "\n",
            "Number of passengers per Cabin\n"
          ],
          "name": "stdout"
        },
        {
          "output_type": "execute_result",
          "data": {
            "text/plain": [
              "Cabin\n",
              "0        67866\n",
              "1            1\n",
              "2            1\n",
              "3            1\n",
              "4            1\n",
              "         ...  \n",
              "26988        1\n",
              "26989        1\n",
              "26990        1\n",
              "26991        1\n",
              "26992        1\n",
              "Name: Survived, Length: 26993, dtype: int64"
            ]
          },
          "metadata": {
            "tags": []
          },
          "execution_count": 304
        }
      ]
    },
    {
      "cell_type": "code",
      "metadata": {
        "colab": {
          "base_uri": "https://localhost:8080/"
        },
        "id": "cHtlwz_sn7gT",
        "outputId": "47592c7c-d548-4b21-9a05-ac875bdd4556"
      },
      "source": [
        "# Looking deeper at feature \"Ticket\"\n",
        "# \"Ticket\" == 0 corresponds to null values\n",
        "# From the values feature \"Ticket\" is probably not relevant \n",
        "\n",
        "print(\"Number of survived per Ticket\")\n",
        "print(df_train.groupby('Ticket')[\"Survived\"].sum())\n",
        "print()\n",
        "print(\"Number of passengers per Ticket\")\n",
        "df_train.groupby('Ticket')[\"Survived\"].count()"
      ],
      "execution_count": null,
      "outputs": [
        {
          "output_type": "stream",
          "text": [
            "Number of survived per Ticket\n",
            "Ticket\n",
            "0        2413\n",
            "1           1\n",
            "2           1\n",
            "3           1\n",
            "4           2\n",
            "         ... \n",
            "75327       0\n",
            "75328       1\n",
            "75329       0\n",
            "75330       1\n",
            "75331       0\n",
            "Name: Survived, Length: 75332, dtype: int64\n",
            "\n",
            "Number of passengers per Ticket\n"
          ],
          "name": "stdout"
        },
        {
          "output_type": "execute_result",
          "data": {
            "text/plain": [
              "Ticket\n",
              "0        4623\n",
              "1           1\n",
              "2           1\n",
              "3           2\n",
              "4           5\n",
              "         ... \n",
              "75327       1\n",
              "75328       1\n",
              "75329       1\n",
              "75330       1\n",
              "75331       1\n",
              "Name: Survived, Length: 75332, dtype: int64"
            ]
          },
          "metadata": {
            "tags": []
          },
          "execution_count": 25
        }
      ]
    },
    {
      "cell_type": "code",
      "metadata": {
        "id": "dia9zccodEYg"
      },
      "source": [
        "# Features Name and Survived are left out\n",
        "# ? Ticket and cabin are really relevant despite the amount of null values?"
      ],
      "execution_count": null,
      "outputs": []
    },
    {
      "cell_type": "markdown",
      "metadata": {
        "id": "v5XEG3NVrcvo"
      },
      "source": [
        "# Comparing feature distributions bewteen train and test datasets"
      ]
    },
    {
      "cell_type": "code",
      "metadata": {
        "colab": {
          "base_uri": "https://localhost:8080/"
        },
        "id": "uluPLmSk5eRW",
        "outputId": "c45e7785-3f2b-4490-abfb-9eb5ef18ed04"
      },
      "source": [
        "df_train = pd.read_csv('/content/playground/train.csv')\n",
        "print(df_train.columns)\n",
        "print(len(df_train.columns))\n",
        "print(df_train.head(100))"
      ],
      "execution_count": null,
      "outputs": [
        {
          "output_type": "stream",
          "text": [
            "Index(['PassengerId', 'Survived', 'Pclass', 'Name', 'Sex', 'Age', 'SibSp', 'Parch', 'Ticket', 'Fare', 'Cabin', 'Embarked'], dtype='object')\n",
            "12\n",
            "    PassengerId  Survived  Pclass              Name     Sex    Age  SibSp  Parch     Ticket    Fare   Cabin Embarked\n",
            "0             0         1       1  Oconnor, Frankie    male    NaN      2      0     209245   27.14  C12239        S\n",
            "1             1         0       3       Bryan, Drew    male    NaN      0      0      27323   13.35     NaN        S\n",
            "2             2         0       3    Owens, Kenneth    male   0.33      1      2  CA 457703   71.29     NaN        S\n",
            "3             3         0       3     Kramer, James    male  19.00      0      0   A. 10866   13.04     NaN        S\n",
            "4             4         1       3     Bond, Michael    male  25.00      0      0     427635    7.76     NaN        S\n",
            "..          ...       ...     ...               ...     ...    ...    ...    ...        ...     ...     ...      ...\n",
            "95           95         1       2     Gruska, Karen  female  53.00      0      0     325538   32.24     NaN        S\n",
            "96           96         1       2      Jordan, Emma  female  28.00      0      0     167707   26.46     NaN        Q\n",
            "97           97         1       1   Elliott, Monica  female  56.00      0      0   PC 11617  131.28   D7415        Q\n",
            "98           98         1       2      Bohn, Teresa  female   8.00      0      0        NaN   27.88     NaN        S\n",
            "99           99         1       1     Kanter, Betty  female  59.00      0      0      48662  278.56  C16097        C\n",
            "\n",
            "[100 rows x 12 columns]\n"
          ],
          "name": "stdout"
        }
      ]
    },
    {
      "cell_type": "code",
      "metadata": {
        "id": "tJz4orbl5qHb"
      },
      "source": [
        "df_counts_train = {}\n",
        "for col in df_train.columns:\n",
        "  \n",
        "  if col==\"PassengerId\":\n",
        "    continue\n",
        "  if col==\"Survived\":\n",
        "    continue\n",
        "  if col==\"Name\":\n",
        "    continue\n",
        "\n",
        "  s = df_train[col].value_counts()\n",
        "  df_feat_dist = pd.DataFrame({col: s.index, \"sum\":s.values})\n",
        "  df_counts_train[col] = df_feat_dist\n"
      ],
      "execution_count": null,
      "outputs": []
    },
    {
      "cell_type": "code",
      "metadata": {
        "id": "AL3qZE-D7GP1"
      },
      "source": [
        "df_counts_test = {}\n",
        "for col in df_test.columns:\n",
        "  \n",
        "  if col==\"PassengerId\":\n",
        "    continue\n",
        "  if col==\"Survived\":\n",
        "    continue\n",
        "  if col==\"Name\":\n",
        "    continue\n",
        "\n",
        "  s = df_test[col].value_counts()\n",
        "  df_feat_dist = pd.DataFrame({col: s.index, \"sum\":s.values})\n",
        "  df_counts_test[col] = df_feat_dist"
      ],
      "execution_count": null,
      "outputs": []
    },
    {
      "cell_type": "code",
      "metadata": {
        "colab": {
          "base_uri": "https://localhost:8080/",
          "height": 1000
        },
        "id": "IYRuAvFN83v-",
        "outputId": "0916eaaf-62b1-4985-814e-cbe7273ca56a"
      },
      "source": [
        "\n",
        "# importing pandas library\n",
        "import pandas as pd\n",
        "# import matplotlib library\n",
        "import matplotlib.pyplot as plt\n",
        "\n",
        "for col, df in df_counts_train.items():\n",
        "\n",
        "  print(col)\n",
        "\n",
        "  if col not in  [\n",
        "                 \"Pclass\", \"SibSp\",\"Parch\", \n",
        "                 \"Embarked\" , \"Sex\"]:\n",
        "    continue\n",
        "\n",
        "  xlabels = []\n",
        "  y1values = []\n",
        "  y2values = []\n",
        "  for item in df_counts_train[col][col]:\n",
        "    xlabels.append(item)\n",
        "\n",
        "    y1values.append(df_counts_train[col].loc[df_counts_train[col][col]==item][\"sum\"].item())\n",
        "\n",
        "    y2values.append(df_counts_test[col].loc[df_counts_test[col][col]==item][\"sum\"].item())\n",
        "\n",
        "  # creating dataframe\n",
        "  df = pd.DataFrame({\n",
        "      col: xlabels,\n",
        "      'Train': y1values,\n",
        "      'Test': y2values\n",
        "  })\n",
        "    \n",
        "  # plotting graph \n",
        "  df.plot(x=col, y=[\"Train\", \"Test\"], kind=\"bar\")"
      ],
      "execution_count": null,
      "outputs": [
        {
          "output_type": "stream",
          "text": [
            "Pclass\n",
            "Sex\n",
            "Age\n",
            "SibSp\n",
            "Parch\n",
            "Ticket\n",
            "Fare\n",
            "Cabin\n",
            "Embarked\n"
          ],
          "name": "stdout"
        },
        {
          "output_type": "display_data",
          "data": {
            "image/png": "[encoded data removed]",
            "text/plain": [
              "<Figure size 432x288 with 1 Axes>"
            ]
          },
          "metadata": {
            "tags": [],
            "needs_background": "light"
          }
        },
        {
          "output_type": "display_data",
          "data": {
            "image/png": "[encoded data removed]",
            "text/plain": [
              "<Figure size 432x288 with 1 Axes>"
            ]
          },
          "metadata": {
            "tags": [],
            "needs_background": "light"
          }
        },
        {
          "output_type": "display_data",
          "data": {
            "image/png": "[encoded data removed]",
            "text/plain": [
              "<Figure size 432x288 with 1 Axes>"
            ]
          },
          "metadata": {
            "tags": [],
            "needs_background": "light"
          }
        },
        {
          "output_type": "display_data",
          "data": {
            "image/png": "[encoded data removed]",
            "text/plain": [
              "<Figure size 432x288 with 1 Axes>"
            ]
          },
          "metadata": {
            "tags": [],
            "needs_background": "light"
          }
        },
        {
          "output_type": "display_data",
          "data": {
            "image/png": "[encoded data removed]",
            "text/plain": [
              "<Figure size 432x288 with 1 Axes>"
            ]
          },
          "metadata": {
            "tags": [],
            "needs_background": "light"
          }
        }
      ]
    },
    {
      "cell_type": "code",
      "metadata": {
        "id": "cenXoaiDJZwK"
      },
      "source": [
        "df_age = pd.concat([df_train[\"Age\"], df_test[\"Age\"]], keys=[\"train\", \"test\"], names=['type', 'rowid']).reset_index()\n",
        "df_fare = pd.concat([df_train[\"Fare\"], df_test[\"Fare\"]], keys=[\"train\", \"test\"], names=['type', 'rowid']).reset_index()"
      ],
      "execution_count": null,
      "outputs": []
    },
    {
      "cell_type": "code",
      "metadata": {
        "colab": {
          "base_uri": "https://localhost:8080/",
          "height": 333
        },
        "id": "AF7WYO4BloE7",
        "outputId": "f6545166-0382-49a2-d0a0-bc0e91fe1a7b"
      },
      "source": [
        "df_age.groupby('type').Age.plot(kind='kde', legend=True, xlim= [df_age[\"Age\"].min(), df_age[\"Age\"].max()])"
      ],
      "execution_count": null,
      "outputs": [
        {
          "output_type": "execute_result",
          "data": {
            "text/plain": [
              "type\n",
              "test     AxesSubplot(0.125,0.125;0.775x0.755)\n",
              "train    AxesSubplot(0.125,0.125;0.775x0.755)\n",
              "Name: Age, dtype: object"
            ]
          },
          "metadata": {
            "tags": []
          },
          "execution_count": 71
        },
        {
          "output_type": "display_data",
          "data": {
            "image/png": "[encoded data removed]",
            "text/plain": [
              "<Figure size 432x288 with 1 Axes>"
            ]
          },
          "metadata": {
            "tags": [],
            "needs_background": "light"
          }
        }
      ]
    },
    {
      "cell_type": "code",
      "metadata": {
        "colab": {
          "base_uri": "https://localhost:8080/",
          "height": 333
        },
        "id": "mM048W2ZrwT8",
        "outputId": "24ef7d0d-4c82-49e3-e8ac-5351c4e25f73"
      },
      "source": [
        "df_fare.groupby('type').Fare.plot(kind='kde', legend=True, xlim= [df_fare[\"Fare\"].min(), df_fare[\"Fare\"].max()])"
      ],
      "execution_count": null,
      "outputs": [
        {
          "output_type": "execute_result",
          "data": {
            "text/plain": [
              "type\n",
              "test     AxesSubplot(0.125,0.125;0.775x0.755)\n",
              "train    AxesSubplot(0.125,0.125;0.775x0.755)\n",
              "Name: Fare, dtype: object"
            ]
          },
          "metadata": {
            "tags": []
          },
          "execution_count": 68
        },
        {
          "output_type": "display_data",
          "data": {
            "image/png": "[encoded data removed]",
            "text/plain": [
              "<Figure size 432x288 with 1 Axes>"
            ]
          },
          "metadata": {
            "tags": [],
            "needs_background": "light"
          }
        }
      ]
    },
    {
      "cell_type": "markdown",
      "metadata": {
        "id": "2HU7ZD2fEf9I"
      },
      "source": [
        "# Classification Model"
      ]
    },
    {
      "cell_type": "code",
      "metadata": {
        "id": "7B0jlIaigJdA"
      },
      "source": [
        "import tensorflow as tf"
      ],
      "execution_count": 220,
      "outputs": []
    },
    {
      "cell_type": "code",
      "metadata": {
        "id": "R5G6Bu1TiVjn"
      },
      "source": [
        "from tensorflow.keras import Sequential\n",
        "from tensorflow.keras.layers import Dense\n",
        "from tensorflow.keras.layers import Activation\n",
        "from tensorflow.keras.optimizers import Adam\n",
        "from sklearn.model_selection import train_test_split"
      ],
      "execution_count": 222,
      "outputs": []
    },
    {
      "cell_type": "code",
      "metadata": {
        "colab": {
          "base_uri": "https://localhost:8080/"
        },
        "id": "bg6CEpqigMgQ",
        "outputId": "379aa758-a944-4248-c7c3-5e379a8898e7"
      },
      "source": [
        "print(tf.__version__)"
      ],
      "execution_count": 223,
      "outputs": [
        {
          "output_type": "stream",
          "text": [
            "2.4.1\n"
          ],
          "name": "stdout"
        }
      ]
    },
    {
      "cell_type": "code",
      "metadata": {
        "id": "vIHx-LkvEw6t"
      },
      "source": [
        "# Read Dataset and format for training"
      ],
      "execution_count": null,
      "outputs": []
    },
    {
      "cell_type": "code",
      "metadata": {
        "colab": {
          "base_uri": "https://localhost:8080/"
        },
        "id": "RWHLM38t1MBZ",
        "outputId": "2e385955-2fe8-4491-cb0b-d82cf6306cfe"
      },
      "source": [
        "df_train = pd.read_csv('/content/playground/train.csv')\n",
        "print(df_train.columns)\n",
        "print(len(df_train.columns))\n",
        "print(df_train.head(100))"
      ],
      "execution_count": 229,
      "outputs": [
        {
          "output_type": "stream",
          "text": [
            "Index(['PassengerId', 'Survived', 'Pclass', 'Name', 'Sex', 'Age', 'SibSp',\n",
            "       'Parch', 'Ticket', 'Fare', 'Cabin', 'Embarked'],\n",
            "      dtype='object')\n",
            "12\n",
            "    PassengerId  Survived  Pclass  ...    Fare   Cabin  Embarked\n",
            "0             0         1       1  ...   27.14  C12239         S\n",
            "1             1         0       3  ...   13.35     NaN         S\n",
            "2             2         0       3  ...   71.29     NaN         S\n",
            "3             3         0       3  ...   13.04     NaN         S\n",
            "4             4         1       3  ...    7.76     NaN         S\n",
            "..          ...       ...     ...  ...     ...     ...       ...\n",
            "95           95         1       2  ...   32.24     NaN         S\n",
            "96           96         1       2  ...   26.46     NaN         Q\n",
            "97           97         1       1  ...  131.28   D7415         Q\n",
            "98           98         1       2  ...   27.88     NaN         S\n",
            "99           99         1       1  ...  278.56  C16097         C\n",
            "\n",
            "[100 rows x 12 columns]\n"
          ],
          "name": "stdout"
        }
      ]
    },
    {
      "cell_type": "code",
      "metadata": {
        "id": "CW5ANFHG1MaG"
      },
      "source": [
        "# Encode Categorical Values\n",
        "df_train[\"Sex\"] = pd.Categorical(df_train[\"Sex\"])\n",
        "df_train[\"Sex\"] = np.array(df_train.Sex.cat.codes)\n",
        "df_train[\"Embarked\"] = pd.Categorical(df_train[\"Embarked\"])\n",
        "df_train[\"Embarked\"] = np.array(df_train.Embarked.cat.codes)\n",
        "\n",
        "# Create Dataset\n",
        "X = np.array(df_train[[\"Sex\", \"Embarked\", \"Pclass\"]])\n",
        "labels = np.array(df_train[\"Survived\"])"
      ],
      "execution_count": 230,
      "outputs": []
    },
    {
      "cell_type": "code",
      "metadata": {
        "colab": {
          "base_uri": "https://localhost:8080/"
        },
        "id": "k76xz0R3HPn4",
        "outputId": "5e4c39e7-7d47-4068-a4d6-354beb91c157"
      },
      "source": [
        "X"
      ],
      "execution_count": 226,
      "outputs": [
        {
          "output_type": "execute_result",
          "data": {
            "text/plain": [
              "array([[1, 2, 1],\n",
              "       [1, 2, 3],\n",
              "       [1, 2, 3],\n",
              "       ...,\n",
              "       [1, 2, 3],\n",
              "       [1, 2, 3],\n",
              "       [1, 2, 3]])"
            ]
          },
          "metadata": {
            "tags": []
          },
          "execution_count": 226
        }
      ]
    },
    {
      "cell_type": "code",
      "metadata": {
        "id": "UnpvJWZz1MaH"
      },
      "source": [
        "# Imputation of nan values\n",
        "df_train['Embarked'] = df_train['Embarked'].replace(-1, np.nan)\n",
        "from sklearn.impute import KNNImputer\n",
        "imputer = KNNImputer(n_neighbors=2, weights=\"uniform\")\n",
        "X = imputer.fit_transform(X)"
      ],
      "execution_count": 231,
      "outputs": []
    },
    {
      "cell_type": "code",
      "metadata": {
        "id": "KtVAE_W9nhlf"
      },
      "source": [
        "# Split into train and validation datasets\n",
        "X_train, X_valid, y_train, y_valid = train_test_split(X, labels, test_size=0.33)"
      ],
      "execution_count": 234,
      "outputs": []
    },
    {
      "cell_type": "code",
      "metadata": {
        "id": "sDNJF9z7hebV"
      },
      "source": [
        "# Define the model\n",
        "model = Sequential()\n",
        "model.add(Dense(20, \n",
        "                kernel_initializer='random_normal',\n",
        "                bias_initializer='zeros',\n",
        "                input_dim=3, \n",
        "                kernel_regularizer=tf.keras.regularizers.l2(0.01),\n",
        "                activation='relu'))\n",
        "model.add(Dense(1, activation='sigmoid'))"
      ],
      "execution_count": 235,
      "outputs": []
    },
    {
      "cell_type": "code",
      "metadata": {
        "colab": {
          "base_uri": "https://localhost:8080/"
        },
        "id": "mUafaSbJsNQo",
        "outputId": "fa7796f3-7a49-4b45-9efd-088f24460140"
      },
      "source": [
        "model.summary()"
      ],
      "execution_count": 236,
      "outputs": [
        {
          "output_type": "stream",
          "text": [
            "Model: \"sequential_11\"\n",
            "_________________________________________________________________\n",
            "Layer (type)                 Output Shape              Param #   \n",
            "=================================================================\n",
            "dense_22 (Dense)             (None, 20)                80        \n",
            "_________________________________________________________________\n",
            "dense_23 (Dense)             (None, 1)                 21        \n",
            "=================================================================\n",
            "Total params: 101\n",
            "Trainable params: 101\n",
            "Non-trainable params: 0\n",
            "_________________________________________________________________\n"
          ],
          "name": "stdout"
        }
      ]
    },
    {
      "cell_type": "code",
      "metadata": {
        "id": "o0XwTay_hwLd"
      },
      "source": [
        "model.compile(optimizer='adam', loss='binary_crossentropy', metrics=['accuracy'])"
      ],
      "execution_count": 237,
      "outputs": []
    },
    {
      "cell_type": "code",
      "metadata": {
        "id": "3Y8TBlVEtB-m"
      },
      "source": [
        "opt = tf.optimizers.Adam(learning_rate=0.00001)\n",
        "model.compile(optimizer=opt, loss='binary_crossentropy', metrics=['accuracy'])"
      ],
      "execution_count": null,
      "outputs": []
    },
    {
      "cell_type": "code",
      "metadata": {
        "colab": {
          "base_uri": "https://localhost:8080/"
        },
        "id": "Xoqmj51-h4ua",
        "outputId": "187ef030-d652-4157-bceb-e66b4fd8cd9a"
      },
      "source": [
        "history = model.fit(X_train, \n",
        "          y_train, \n",
        "          epochs=10, \n",
        "          batch_size=32, \n",
        "          verbose=1, \n",
        "          validation_split=0.2\n",
        "          # validation_data=(X_valid, y_valid)\n",
        ")"
      ],
      "execution_count": 238,
      "outputs": [
        {
          "output_type": "stream",
          "text": [
            "Epoch 1/10\n",
            "1675/1675 [==============================] - 3s 2ms/step - loss: 0.5659 - accuracy: 0.7062 - val_loss: 0.5162 - val_accuracy: 0.7591\n",
            "Epoch 2/10\n",
            "1675/1675 [==============================] - 3s 2ms/step - loss: 0.5083 - accuracy: 0.7672 - val_loss: 0.5146 - val_accuracy: 0.7616\n",
            "Epoch 3/10\n",
            "1675/1675 [==============================] - 3s 2ms/step - loss: 0.5098 - accuracy: 0.7648 - val_loss: 0.5135 - val_accuracy: 0.7616\n",
            "Epoch 4/10\n",
            "1675/1675 [==============================] - 2s 1ms/step - loss: 0.5055 - accuracy: 0.7661 - val_loss: 0.5158 - val_accuracy: 0.7616\n",
            "Epoch 5/10\n",
            "1675/1675 [==============================] - 2s 1ms/step - loss: 0.5047 - accuracy: 0.7655 - val_loss: 0.5122 - val_accuracy: 0.7616\n",
            "Epoch 6/10\n",
            "1675/1675 [==============================] - 2s 1ms/step - loss: 0.5114 - accuracy: 0.7612 - val_loss: 0.5125 - val_accuracy: 0.7616\n",
            "Epoch 7/10\n",
            "1675/1675 [==============================] - 2s 1ms/step - loss: 0.5057 - accuracy: 0.7667 - val_loss: 0.5105 - val_accuracy: 0.7591\n",
            "Epoch 8/10\n",
            "1675/1675 [==============================] - 2s 1ms/step - loss: 0.5064 - accuracy: 0.7648 - val_loss: 0.5113 - val_accuracy: 0.7616\n",
            "Epoch 9/10\n",
            "1675/1675 [==============================] - 2s 1ms/step - loss: 0.5073 - accuracy: 0.7645 - val_loss: 0.5110 - val_accuracy: 0.7591\n",
            "Epoch 10/10\n",
            "1675/1675 [==============================] - 2s 1ms/step - loss: 0.5075 - accuracy: 0.7623 - val_loss: 0.5096 - val_accuracy: 0.7616\n"
          ],
          "name": "stdout"
        }
      ]
    },
    {
      "cell_type": "code",
      "metadata": {
        "id": "Hxl7C0soh-56",
        "colab": {
          "base_uri": "https://localhost:8080/"
        },
        "outputId": "2429dca0-b150-4edb-ab1d-851e28a85514"
      },
      "source": [
        "loss = model.evaluate(X_valid, y_valid, verbose=0)\n",
        "print(loss)"
      ],
      "execution_count": 239,
      "outputs": [
        {
          "output_type": "stream",
          "text": [
            "[0.5046552419662476, 0.7646969556808472]\n"
          ],
          "name": "stdout"
        }
      ]
    },
    {
      "cell_type": "code",
      "metadata": {
        "colab": {
          "base_uri": "https://localhost:8080/"
        },
        "id": "w_orWMdJloRY",
        "outputId": "05ffc880-890c-413b-f1ce-4354b5badfef"
      },
      "source": [
        "y_valid"
      ],
      "execution_count": null,
      "outputs": [
        {
          "output_type": "execute_result",
          "data": {
            "text/plain": [
              "array([0, 0, 0, ..., 1, 1, 0])"
            ]
          },
          "metadata": {
            "tags": []
          },
          "execution_count": 84
        }
      ]
    },
    {
      "cell_type": "code",
      "metadata": {
        "id": "i38Z_PRTiBc3",
        "colab": {
          "base_uri": "https://localhost:8080/"
        },
        "outputId": "09316192-2fdd-469f-9ec6-cb59599bcc03"
      },
      "source": [
        "yhat = model.predict(X_valid)\n",
        "print(yhat)"
      ],
      "execution_count": null,
      "outputs": [
        {
          "output_type": "stream",
          "text": [
            "[[0.2579416 ]\n",
            " [0.17743433]\n",
            " [0.52801406]\n",
            " ...\n",
            " [0.5512471 ]\n",
            " [0.17743436]\n",
            " [0.25309014]]\n"
          ],
          "name": "stdout"
        }
      ]
    },
    {
      "cell_type": "code",
      "metadata": {
        "colab": {
          "base_uri": "https://localhost:8080/"
        },
        "id": "6wjU4z_lAaOb",
        "outputId": "3de43794-e440-433e-8c4c-75a3dd5bfae5"
      },
      "source": [
        "y_valid"
      ],
      "execution_count": null,
      "outputs": [
        {
          "output_type": "execute_result",
          "data": {
            "text/plain": [
              "array([0, 0, 0, ..., 1, 1, 0])"
            ]
          },
          "metadata": {
            "tags": []
          },
          "execution_count": 88
        }
      ]
    },
    {
      "cell_type": "code",
      "metadata": {
        "id": "6LfV_Mqbj-HT"
      },
      "source": [
        "y_class = np.where(yhat > 0.5, 1, 0)\n"
      ],
      "execution_count": null,
      "outputs": []
    },
    {
      "cell_type": "code",
      "metadata": {
        "id": "eB2ZmEFclBiD"
      },
      "source": [
        "y_class = y_class.squeeze()"
      ],
      "execution_count": null,
      "outputs": []
    },
    {
      "cell_type": "code",
      "metadata": {
        "colab": {
          "base_uri": "https://localhost:8080/"
        },
        "id": "svh23v1o0gBt",
        "outputId": "c18a70e4-697c-459d-e51c-20df134bd421"
      },
      "source": [
        "y_class"
      ],
      "execution_count": 112,
      "outputs": [
        {
          "output_type": "execute_result",
          "data": {
            "text/plain": [
              "array([0, 0, 1, ..., 1, 0, 0])"
            ]
          },
          "metadata": {
            "tags": []
          },
          "execution_count": 112
        }
      ]
    },
    {
      "cell_type": "markdown",
      "metadata": {
        "id": "tzcOjVZNGZC1"
      },
      "source": [
        "# Predict Labels on Test Set"
      ]
    },
    {
      "cell_type": "code",
      "metadata": {
        "colab": {
          "base_uri": "https://localhost:8080/"
        },
        "id": "wMH_Hj0N5q_4",
        "outputId": "7d1517fb-200b-4765-e715-f6376c799519"
      },
      "source": [
        "df_test = pd.read_csv('/content/playground/test.csv')\n",
        "print(df_test.columns)\n",
        "print(len(df_test.columns))\n",
        "print(df_test.head())"
      ],
      "execution_count": 255,
      "outputs": [
        {
          "output_type": "stream",
          "text": [
            "Index(['PassengerId', 'Pclass', 'Name', 'Sex', 'Age', 'SibSp', 'Parch',\n",
            "       'Ticket', 'Fare', 'Cabin', 'Embarked'],\n",
            "      dtype='object')\n",
            "11\n",
            "   PassengerId  Pclass              Name  ...   Fare   Cabin  Embarked\n",
            "0       100000       3  Holliday, Daniel  ...  63.01     NaN         S\n",
            "1       100001       3  Nguyen, Lorraine  ...   5.81     NaN         S\n",
            "2       100002       1   Harris, Heather  ...  38.91  B15315         C\n",
            "3       100003       2      Larsen, Eric  ...  12.93     NaN         S\n",
            "4       100004       1     Cleary, Sarah  ...  26.89  B22515         C\n",
            "\n",
            "[5 rows x 11 columns]\n"
          ],
          "name": "stdout"
        }
      ]
    },
    {
      "cell_type": "code",
      "metadata": {
        "id": "jH41_zRe5Z2u"
      },
      "source": [
        "# Preprocessing categorical data\n",
        "df_test[\"Sex\"] = pd.Categorical(df_test[\"Sex\"])\n",
        "df_test[\"Sex\"] = np.array(df_test.Sex.cat.codes)\n",
        "df_test[\"Embarked\"] = pd.Categorical(df_test[\"Embarked\"])\n",
        "df_test[\"Embarked\"] = np.array(df_test.Embarked.cat.codes)"
      ],
      "execution_count": 256,
      "outputs": []
    },
    {
      "cell_type": "code",
      "metadata": {
        "id": "xL6HYo0O5-gi"
      },
      "source": [
        "# Imputation of nan values\n",
        "df_train['Embarked'] = df_train['Embarked'].replace(-1, np.nan)\n",
        "from sklearn.impute import KNNImputer\n",
        "imputer = KNNImputer(n_neighbors=2, weights=\"uniform\")\n",
        "X = imputer.fit_transform(X)"
      ],
      "execution_count": 257,
      "outputs": []
    },
    {
      "cell_type": "code",
      "metadata": {
        "colab": {
          "base_uri": "https://localhost:8080/"
        },
        "id": "yXKmA0RG6Sv8",
        "outputId": "e1dd9a87-86eb-42a7-942c-605b7bd2f856"
      },
      "source": [
        "df_test.isnull().any()"
      ],
      "execution_count": 258,
      "outputs": [
        {
          "output_type": "execute_result",
          "data": {
            "text/plain": [
              "PassengerId    False\n",
              "Pclass         False\n",
              "Name           False\n",
              "Sex            False\n",
              "Age             True\n",
              "SibSp          False\n",
              "Parch          False\n",
              "Ticket          True\n",
              "Fare            True\n",
              "Cabin           True\n",
              "Embarked       False\n",
              "dtype: bool"
            ]
          },
          "metadata": {
            "tags": []
          },
          "execution_count": 258
        }
      ]
    },
    {
      "cell_type": "code",
      "metadata": {
        "id": "ZsKKvlue9T4x"
      },
      "source": [
        "# Create Test Dataset\n",
        "X_test = np.array(df_test[[\"Sex\", \"Embarked\", \"Pclass\"]])\n",
        "PIds = np.array(df_test[\"PassengerId\"])\n"
      ],
      "execution_count": 259,
      "outputs": []
    },
    {
      "cell_type": "code",
      "metadata": {
        "id": "Bv6KplBW95He"
      },
      "source": [
        "Y_hat = model.predict(X_test) \n",
        "Y_class = np.where(Y_hat > 0.5, 1, 0)"
      ],
      "execution_count": 260,
      "outputs": []
    },
    {
      "cell_type": "code",
      "metadata": {
        "id": "50JkoQeX-YGr"
      },
      "source": [
        "df_classif = pd.DataFrame(data=[PIds, Y_class.squeeze()]).T\n",
        "df_classif.columns = [\"PassengerId\", \"Survived\"]"
      ],
      "execution_count": 261,
      "outputs": []
    },
    {
      "cell_type": "code",
      "metadata": {
        "colab": {
          "base_uri": "https://localhost:8080/",
          "height": 204
        },
        "id": "vduh832kFCzf",
        "outputId": "7472b50c-c0b9-464b-ef1e-f23ce9ba4516"
      },
      "source": [
        "df_classif.head()"
      ],
      "execution_count": 265,
      "outputs": [
        {
          "output_type": "execute_result",
          "data": {
            "text/html": [
              "<div>\n",
              "<style scoped>\n",
              "    .dataframe tbody tr th:only-of-type {\n",
              "        vertical-align: middle;\n",
              "    }\n",
              "\n",
              "    .dataframe tbody tr th {\n",
              "        vertical-align: top;\n",
              "    }\n",
              "\n",
              "    .dataframe thead th {\n",
              "        text-align: right;\n",
              "    }\n",
              "</style>\n",
              "<table border=\"1\" class=\"dataframe\">\n",
              "  <thead>\n",
              "    <tr style=\"text-align: right;\">\n",
              "      <th></th>\n",
              "      <th>PassengerId</th>\n",
              "      <th>Survived</th>\n",
              "    </tr>\n",
              "  </thead>\n",
              "  <tbody>\n",
              "    <tr>\n",
              "      <th>0</th>\n",
              "      <td>100000</td>\n",
              "      <td>0</td>\n",
              "    </tr>\n",
              "    <tr>\n",
              "      <th>1</th>\n",
              "      <td>100001</td>\n",
              "      <td>1</td>\n",
              "    </tr>\n",
              "    <tr>\n",
              "      <th>2</th>\n",
              "      <td>100002</td>\n",
              "      <td>1</td>\n",
              "    </tr>\n",
              "    <tr>\n",
              "      <th>3</th>\n",
              "      <td>100003</td>\n",
              "      <td>0</td>\n",
              "    </tr>\n",
              "    <tr>\n",
              "      <th>4</th>\n",
              "      <td>100004</td>\n",
              "      <td>1</td>\n",
              "    </tr>\n",
              "  </tbody>\n",
              "</table>\n",
              "</div>"
            ],
            "text/plain": [
              "   PassengerId  Survived\n",
              "0       100000         0\n",
              "1       100001         1\n",
              "2       100002         1\n",
              "3       100003         0\n",
              "4       100004         1"
            ]
          },
          "metadata": {
            "tags": []
          },
          "execution_count": 265
        }
      ]
    },
    {
      "cell_type": "markdown",
      "metadata": {
        "id": "_GYWFXgSG8KJ"
      },
      "source": [
        ""
      ]
    },
    {
      "cell_type": "code",
      "metadata": {
        "id": "t79I-TbXBqyE"
      },
      "source": [
        "df_classif.to_csv(\"classifications.csv\", index=False)"
      ],
      "execution_count": 266,
      "outputs": []
    },
    {
      "cell_type": "markdown",
      "metadata": {
        "id": "ZCKDR-LIG6qS"
      },
      "source": [
        "# Draft"
      ]
    },
    {
      "cell_type": "code",
      "metadata": {
        "id": "ooYc910ZFjbi"
      },
      "source": [
        "# optional model\n",
        "# create an instance of a neural network:\n",
        "k_model = Sequential()\n",
        "n = 3\n",
        "# the first hidden layer must have input dimensions:\n",
        "k_model.add(Dense(10, activation='relu',\n",
        "                  kernel_regularizer=tf.keras.regularizers.l2(0.01),\n",
        "                  input_dim=n))\n",
        "# additional hidden layers are optional:\n",
        "k_model.add(Dense(20, activation='relu',\n",
        "                  kernel_regularizer=tf.keras.regularizers.l2(0.01)))\n",
        "# the output layer- a binary classifier w/sigmoid activation:\n",
        "k_model.add(Dense(1, activation='sigmoid',\n",
        "                 kernel_regularizer=tf.keras.regularizers.l2(0.01)))\n",
        "\n",
        "# Compile the model with Adam optimizer:\n",
        "k_model.compile(#optimizer=Adam(lr=1e-1),\n",
        "                optimizer=\"adam\",\n",
        "                loss='binary_crossentropy',\n",
        "                metrics=['accuracy'])\n",
        "\n",
        "# Define a learning rate decay method:\n",
        "#lr_decay = ReduceLROnPlateau(monitor='loss',\n",
        "#                             patience=1,\n",
        "#                             verbose=0,\n",
        "#                             factor=0.5,\n",
        "#                             min_lr=1e-7)\n",
        "# Train the model:\n",
        "k_model.fit(X_train, \n",
        "            y_train, \n",
        "            epochs=20,\n",
        "            #callbacks=[lr_decay], \n",
        "            verbose=1,\n",
        "            validation_data=(X_valid, y_valid)\n",
        "            )"
      ],
      "execution_count": null,
      "outputs": []
    }
  ]
}