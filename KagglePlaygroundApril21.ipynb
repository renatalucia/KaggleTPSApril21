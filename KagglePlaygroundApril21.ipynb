{
  "nbformat": 4,
  "nbformat_minor": 0,
  "metadata": {
    "colab": {
      "name": "KagglePlaygroundApril21.ipynb",
      "provenance": [],
      "collapsed_sections": [
        "7PU548djUDVM",
        "fn3y6Mz2UTZL",
        "2HU7ZD2fEf9I",
        "sQn8SGjCGMxL",
        "YBmSbNn9GeVR",
        "ZD44ywQHGnol",
        "qT72FuIYG9KY",
        "fA6lvCqRHGr-",
        "tzcOjVZNGZC1",
        "ZCKDR-LIG6qS"
      ],
      "toc_visible": true,
      "authorship_tag": "ABX9TyMKhDWWozWDfZm/jHKadSUm",
      "include_colab_link": true
    },
    "kernelspec": {
      "name": "python3",
      "display_name": "Python 3"
    },
    "language_info": {
      "name": "python"
    }
  },
  "cells": [
    {
      "cell_type": "markdown",
      "metadata": {
        "id": "view-in-github",
        "colab_type": "text"
      },
      "source": [
        "<a href=\"https://colab.research.google.com/github/renatalucia/KaggleTPSApril21/blob/main/KagglePlaygroundApril21.ipynb\" target=\"_parent\"><img src=\"https://colab.research.google.com/assets/colab-badge.svg\" alt=\"Open In Colab\"/></a>"
      ]
    },
    {
      "cell_type": "markdown",
      "metadata": {
        "id": "7PU548djUDVM"
      },
      "source": [
        "# Download Data from Kaggle"
      ]
    },
    {
      "cell_type": "code",
      "metadata": {
        "colab": {
          "base_uri": "https://localhost:8080/"
        },
        "id": "C3HUM-NuUAzW",
        "outputId": "0252275d-9f50-498e-ab23-b7990b649cc6"
      },
      "source": [
        "!pip install --upgrade --force-reinstall --no-deps kaggle"
      ],
      "execution_count": null,
      "outputs": [
        {
          "output_type": "stream",
          "text": [
            "Collecting kaggle\n",
            "\u001b[?25l  Downloading https://files.pythonhosted.org/packages/3a/e7/3bac01547d2ed3d308ac92a0878fbdb0ed0f3d41fb1906c319ccbba1bfbc/kaggle-1.5.12.tar.gz (58kB)\n",
            "\r\u001b[K     |█████▋                          | 10kB 16.1MB/s eta 0:00:01\r\u001b[K     |███████████▏                    | 20kB 12.3MB/s eta 0:00:01\r\u001b[K     |████████████████▊               | 30kB 8.5MB/s eta 0:00:01\r\u001b[K     |██████████████████████▎         | 40kB 7.9MB/s eta 0:00:01\r\u001b[K     |███████████████████████████▉    | 51kB 4.4MB/s eta 0:00:01\r\u001b[K     |████████████████████████████████| 61kB 3.2MB/s \n",
            "\u001b[?25hBuilding wheels for collected packages: kaggle\n",
            "  Building wheel for kaggle (setup.py) ... \u001b[?25l\u001b[?25hdone\n",
            "  Created wheel for kaggle: filename=kaggle-1.5.12-cp37-none-any.whl size=73053 sha256=9b06c4271bc59670bc0a4f460d6d664864e9039128ecad6c100c55a323c8e997\n",
            "  Stored in directory: /root/.cache/pip/wheels/a1/6a/26/d30b7499ff85a4a4593377a87ecf55f7d08af42f0de9b60303\n",
            "Successfully built kaggle\n",
            "Installing collected packages: kaggle\n",
            "  Found existing installation: kaggle 1.5.12\n",
            "    Uninstalling kaggle-1.5.12:\n",
            "      Successfully uninstalled kaggle-1.5.12\n",
            "Successfully installed kaggle-1.5.12\n"
          ],
          "name": "stdout"
        }
      ]
    },
    {
      "cell_type": "code",
      "metadata": {
        "colab": {
          "resources": {
            "http://localhost:8080/nbextensions/google.colab/files.js": {
              "data": "Ly8gQ29weXJpZ2h0IDIwMTcgR29vZ2xlIExMQwovLwovLyBMaWNlbnNlZCB1bmRlciB0aGUgQXBhY2hlIExpY2Vuc2UsIFZlcnNpb24gMi4wICh0aGUgIkxpY2Vuc2UiKTsKLy8geW91IG1heSBub3QgdXNlIHRoaXMgZmlsZSBleGNlcHQgaW4gY29tcGxpYW5jZSB3aXRoIHRoZSBMaWNlbnNlLgovLyBZb3UgbWF5IG9idGFpbiBhIGNvcHkgb2YgdGhlIExpY2Vuc2UgYXQKLy8KLy8gICAgICBodHRwOi8vd3d3LmFwYWNoZS5vcmcvbGljZW5zZXMvTElDRU5TRS0yLjAKLy8KLy8gVW5sZXNzIHJlcXVpcmVkIGJ5IGFwcGxpY2FibGUgbGF3IG9yIGFncmVlZCB0byBpbiB3cml0aW5nLCBzb2Z0d2FyZQovLyBkaXN0cmlidXRlZCB1bmRlciB0aGUgTGljZW5zZSBpcyBkaXN0cmlidXRlZCBvbiBhbiAiQVMgSVMiIEJBU0lTLAovLyBXSVRIT1VUIFdBUlJBTlRJRVMgT1IgQ09ORElUSU9OUyBPRiBBTlkgS0lORCwgZWl0aGVyIGV4cHJlc3Mgb3IgaW1wbGllZC4KLy8gU2VlIHRoZSBMaWNlbnNlIGZvciB0aGUgc3BlY2lmaWMgbGFuZ3VhZ2UgZ292ZXJuaW5nIHBlcm1pc3Npb25zIGFuZAovLyBsaW1pdGF0aW9ucyB1bmRlciB0aGUgTGljZW5zZS4KCi8qKgogKiBAZmlsZW92ZXJ2aWV3IEhlbHBlcnMgZm9yIGdvb2dsZS5jb2xhYiBQeXRob24gbW9kdWxlLgogKi8KKGZ1bmN0aW9uKHNjb3BlKSB7CmZ1bmN0aW9uIHNwYW4odGV4dCwgc3R5bGVBdHRyaWJ1dGVzID0ge30pIHsKICBjb25zdCBlbGVtZW50ID0gZG9jdW1lbnQuY3JlYXRlRWxlbWVudCgnc3BhbicpOwogIGVsZW1lbnQudGV4dENvbnRlbnQgPSB0ZXh0OwogIGZvciAoY29uc3Qga2V5IG9mIE9iamVjdC5rZXlzKHN0eWxlQXR0cmlidXRlcykpIHsKICAgIGVsZW1lbnQuc3R5bGVba2V5XSA9IHN0eWxlQXR0cmlidXRlc1trZXldOwogIH0KICByZXR1cm4gZWxlbWVudDsKfQoKLy8gTWF4IG51bWJlciBvZiBieXRlcyB3aGljaCB3aWxsIGJlIHVwbG9hZGVkIGF0IGEgdGltZS4KY29uc3QgTUFYX1BBWUxPQURfU0laRSA9IDEwMCAqIDEwMjQ7CgpmdW5jdGlvbiBfdXBsb2FkRmlsZXMoaW5wdXRJZCwgb3V0cHV0SWQpIHsKICBjb25zdCBzdGVwcyA9IHVwbG9hZEZpbGVzU3RlcChpbnB1dElkLCBvdXRwdXRJZCk7CiAgY29uc3Qgb3V0cHV0RWxlbWVudCA9IGRvY3VtZW50LmdldEVsZW1lbnRCeUlkKG91dHB1dElkKTsKICAvLyBDYWNoZSBzdGVwcyBvbiB0aGUgb3V0cHV0RWxlbWVudCB0byBtYWtlIGl0IGF2YWlsYWJsZSBmb3IgdGhlIG5leHQgY2FsbAogIC8vIHRvIHVwbG9hZEZpbGVzQ29udGludWUgZnJvbSBQeXRob24uCiAgb3V0cHV0RWxlbWVudC5zdGVwcyA9IHN0ZXBzOwoKICByZXR1cm4gX3VwbG9hZEZpbGVzQ29udGludWUob3V0cHV0SWQpOwp9CgovLyBUaGlzIGlzIHJvdWdobHkgYW4gYXN5bmMgZ2VuZXJhdG9yIChub3Qgc3VwcG9ydGVkIGluIHRoZSBicm93c2VyIHlldCksCi8vIHdoZXJlIHRoZXJlIGFyZSBtdWx0aXBsZSBhc3luY2hyb25vdXMgc3RlcHMgYW5kIHRoZSBQeXRob24gc2lkZSBpcyBnb2luZwovLyB0byBwb2xsIGZvciBjb21wbGV0aW9uIG9mIGVhY2ggc3RlcC4KLy8gVGhpcyB1c2VzIGEgUHJvbWlzZSB0byBibG9jayB0aGUgcHl0aG9uIHNpZGUgb24gY29tcGxldGlvbiBvZiBlYWNoIHN0ZXAsCi8vIHRoZW4gcGFzc2VzIHRoZSByZXN1bHQgb2YgdGhlIHByZXZpb3VzIHN0ZXAgYXMgdGhlIGlucHV0IHRvIHRoZSBuZXh0IHN0ZXAuCmZ1bmN0aW9uIF91cGxvYWRGaWxlc0NvbnRpbnVlKG91dHB1dElkKSB7CiAgY29uc3Qgb3V0cHV0RWxlbWVudCA9IGRvY3VtZW50LmdldEVsZW1lbnRCeUlkKG91dHB1dElkKTsKICBjb25zdCBzdGVwcyA9IG91dHB1dEVsZW1lbnQuc3RlcHM7CgogIGNvbnN0IG5leHQgPSBzdGVwcy5uZXh0KG91dHB1dEVsZW1lbnQubGFzdFByb21pc2VWYWx1ZSk7CiAgcmV0dXJuIFByb21pc2UucmVzb2x2ZShuZXh0LnZhbHVlLnByb21pc2UpLnRoZW4oKHZhbHVlKSA9PiB7CiAgICAvLyBDYWNoZSB0aGUgbGFzdCBwcm9taXNlIHZhbHVlIHRvIG1ha2UgaXQgYXZhaWxhYmxlIHRvIHRoZSBuZXh0CiAgICAvLyBzdGVwIG9mIHRoZSBnZW5lcmF0b3IuCiAgICBvdXRwdXRFbGVtZW50Lmxhc3RQcm9taXNlVmFsdWUgPSB2YWx1ZTsKICAgIHJldHVybiBuZXh0LnZhbHVlLnJlc3BvbnNlOwogIH0pOwp9CgovKioKICogR2VuZXJhdG9yIGZ1bmN0aW9uIHdoaWNoIGlzIGNhbGxlZCBiZXR3ZWVuIGVhY2ggYXN5bmMgc3RlcCBvZiB0aGUgdXBsb2FkCiAqIHByb2Nlc3MuCiAqIEBwYXJhbSB7c3RyaW5nfSBpbnB1dElkIEVsZW1lbnQgSUQgb2YgdGhlIGlucHV0IGZpbGUgcGlja2VyIGVsZW1lbnQuCiAqIEBwYXJhbSB7c3RyaW5nfSBvdXRwdXRJZCBFbGVtZW50IElEIG9mIHRoZSBvdXRwdXQgZGlzcGxheS4KICogQHJldHVybiB7IUl0ZXJhYmxlPCFPYmplY3Q+fSBJdGVyYWJsZSBvZiBuZXh0IHN0ZXBzLgogKi8KZnVuY3Rpb24qIHVwbG9hZEZpbGVzU3RlcChpbnB1dElkLCBvdXRwdXRJZCkgewogIGNvbnN0IGlucHV0RWxlbWVudCA9IGRvY3VtZW50LmdldEVsZW1lbnRCeUlkKGlucHV0SWQpOwogIGlucHV0RWxlbWVudC5kaXNhYmxlZCA9IGZhbHNlOwoKICBjb25zdCBvdXRwdXRFbGVtZW50ID0gZG9jdW1lbnQuZ2V0RWxlbWVudEJ5SWQob3V0cHV0SWQpOwogIG91dHB1dEVsZW1lbnQuaW5uZXJIVE1MID0gJyc7CgogIGNvbnN0IHBpY2tlZFByb21pc2UgPSBuZXcgUHJvbWlzZSgocmVzb2x2ZSkgPT4gewogICAgaW5wdXRFbGVtZW50LmFkZEV2ZW50TGlzdGVuZXIoJ2NoYW5nZScsIChlKSA9PiB7CiAgICAgIHJlc29sdmUoZS50YXJnZXQuZmlsZXMpOwogICAgfSk7CiAgfSk7CgogIGNvbnN0IGNhbmNlbCA9IGRvY3VtZW50LmNyZWF0ZUVsZW1lbnQoJ2J1dHRvbicpOwogIGlucHV0RWxlbWVudC5wYXJlbnRFbGVtZW50LmFwcGVuZENoaWxkKGNhbmNlbCk7CiAgY2FuY2VsLnRleHRDb250ZW50ID0gJ0NhbmNlbCB1cGxvYWQnOwogIGNvbnN0IGNhbmNlbFByb21pc2UgPSBuZXcgUHJvbWlzZSgocmVzb2x2ZSkgPT4gewogICAgY2FuY2VsLm9uY2xpY2sgPSAoKSA9PiB7CiAgICAgIHJlc29sdmUobnVsbCk7CiAgICB9OwogIH0pOwoKICAvLyBXYWl0IGZvciB0aGUgdXNlciB0byBwaWNrIHRoZSBmaWxlcy4KICBjb25zdCBmaWxlcyA9IHlpZWxkIHsKICAgIHByb21pc2U6IFByb21pc2UucmFjZShbcGlja2VkUHJvbWlzZSwgY2FuY2VsUHJvbWlzZV0pLAogICAgcmVzcG9uc2U6IHsKICAgICAgYWN0aW9uOiAnc3RhcnRpbmcnLAogICAgfQogIH07CgogIGNhbmNlbC5yZW1vdmUoKTsKCiAgLy8gRGlzYWJsZSB0aGUgaW5wdXQgZWxlbWVudCBzaW5jZSBmdXJ0aGVyIHBpY2tzIGFyZSBub3QgYWxsb3dlZC4KICBpbnB1dEVsZW1lbnQuZGlzYWJsZWQgPSB0cnVlOwoKICBpZiAoIWZpbGVzKSB7CiAgICByZXR1cm4gewogICAgICByZXNwb25zZTogewogICAgICAgIGFjdGlvbjogJ2NvbXBsZXRlJywKICAgICAgfQogICAgfTsKICB9CgogIGZvciAoY29uc3QgZmlsZSBvZiBmaWxlcykgewogICAgY29uc3QgbGkgPSBkb2N1bWVudC5jcmVhdGVFbGVtZW50KCdsaScpOwogICAgbGkuYXBwZW5kKHNwYW4oZmlsZS5uYW1lLCB7Zm9udFdlaWdodDogJ2JvbGQnfSkpOwogICAgbGkuYXBwZW5kKHNwYW4oCiAgICAgICAgYCgke2ZpbGUudHlwZSB8fCAnbi9hJ30pIC0gJHtmaWxlLnNpemV9IGJ5dGVzLCBgICsKICAgICAgICBgbGFzdCBtb2RpZmllZDogJHsKICAgICAgICAgICAgZmlsZS5sYXN0TW9kaWZpZWREYXRlID8gZmlsZS5sYXN0TW9kaWZpZWREYXRlLnRvTG9jYWxlRGF0ZVN0cmluZygpIDoKICAgICAgICAgICAgICAgICAgICAgICAgICAgICAgICAgICAgJ24vYSd9IC0gYCkpOwogICAgY29uc3QgcGVyY2VudCA9IHNwYW4oJzAlIGRvbmUnKTsKICAgIGxpLmFwcGVuZENoaWxkKHBlcmNlbnQpOwoKICAgIG91dHB1dEVsZW1lbnQuYXBwZW5kQ2hpbGQobGkpOwoKICAgIGNvbnN0IGZpbGVEYXRhUHJvbWlzZSA9IG5ldyBQcm9taXNlKChyZXNvbHZlKSA9PiB7CiAgICAgIGNvbnN0IHJlYWRlciA9IG5ldyBGaWxlUmVhZGVyKCk7CiAgICAgIHJlYWRlci5vbmxvYWQgPSAoZSkgPT4gewogICAgICAgIHJlc29sdmUoZS50YXJnZXQucmVzdWx0KTsKICAgICAgfTsKICAgICAgcmVhZGVyLnJlYWRBc0FycmF5QnVmZmVyKGZpbGUpOwogICAgfSk7CiAgICAvLyBXYWl0IGZvciB0aGUgZGF0YSB0byBiZSByZWFkeS4KICAgIGxldCBmaWxlRGF0YSA9IHlpZWxkIHsKICAgICAgcHJvbWlzZTogZmlsZURhdGFQcm9taXNlLAogICAgICByZXNwb25zZTogewogICAgICAgIGFjdGlvbjogJ2NvbnRpbnVlJywKICAgICAgfQogICAgfTsKCiAgICAvLyBVc2UgYSBjaHVua2VkIHNlbmRpbmcgdG8gYXZvaWQgbWVzc2FnZSBzaXplIGxpbWl0cy4gU2VlIGIvNjIxMTU2NjAuCiAgICBsZXQgcG9zaXRpb24gPSAwOwogICAgd2hpbGUgKHBvc2l0aW9uIDwgZmlsZURhdGEuYnl0ZUxlbmd0aCkgewogICAgICBjb25zdCBsZW5ndGggPSBNYXRoLm1pbihmaWxlRGF0YS5ieXRlTGVuZ3RoIC0gcG9zaXRpb24sIE1BWF9QQVlMT0FEX1NJWkUpOwogICAgICBjb25zdCBjaHVuayA9IG5ldyBVaW50OEFycmF5KGZpbGVEYXRhLCBwb3NpdGlvbiwgbGVuZ3RoKTsKICAgICAgcG9zaXRpb24gKz0gbGVuZ3RoOwoKICAgICAgY29uc3QgYmFzZTY0ID0gYnRvYShTdHJpbmcuZnJvbUNoYXJDb2RlLmFwcGx5KG51bGwsIGNodW5rKSk7CiAgICAgIHlpZWxkIHsKICAgICAgICByZXNwb25zZTogewogICAgICAgICAgYWN0aW9uOiAnYXBwZW5kJywKICAgICAgICAgIGZpbGU6IGZpbGUubmFtZSwKICAgICAgICAgIGRhdGE6IGJhc2U2NCwKICAgICAgICB9LAogICAgICB9OwogICAgICBwZXJjZW50LnRleHRDb250ZW50ID0KICAgICAgICAgIGAke01hdGgucm91bmQoKHBvc2l0aW9uIC8gZmlsZURhdGEuYnl0ZUxlbmd0aCkgKiAxMDApfSUgZG9uZWA7CiAgICB9CiAgfQoKICAvLyBBbGwgZG9uZS4KICB5aWVsZCB7CiAgICByZXNwb25zZTogewogICAgICBhY3Rpb246ICdjb21wbGV0ZScsCiAgICB9CiAgfTsKfQoKc2NvcGUuZ29vZ2xlID0gc2NvcGUuZ29vZ2xlIHx8IHt9OwpzY29wZS5nb29nbGUuY29sYWIgPSBzY29wZS5nb29nbGUuY29sYWIgfHwge307CnNjb3BlLmdvb2dsZS5jb2xhYi5fZmlsZXMgPSB7CiAgX3VwbG9hZEZpbGVzLAogIF91cGxvYWRGaWxlc0NvbnRpbnVlLAp9Owp9KShzZWxmKTsK",
              "ok": true,
              "headers": [
                [
                  "content-type",
                  "application/javascript"
                ]
              ],
              "status": 200,
              "status_text": ""
            }
          },
          "base_uri": "https://localhost:8080/",
          "height": 89
        },
        "id": "NBsZ61y_HWLH",
        "outputId": "4a814739-ef15-4f0e-ea5f-1358f8c08b70"
      },
      "source": [
        "from google.colab import files\n",
        "files.upload()"
      ],
      "execution_count": 2,
      "outputs": [
        {
          "output_type": "display_data",
          "data": {
            "text/html": [
              "\n",
              "     <input type=\"file\" id=\"files-6c5e5226-4cbe-45c9-894e-b07233937d35\" name=\"files[]\" multiple disabled\n",
              "        style=\"border:none\" />\n",
              "     <output id=\"result-6c5e5226-4cbe-45c9-894e-b07233937d35\">\n",
              "      Upload widget is only available when the cell has been executed in the\n",
              "      current browser session. Please rerun this cell to enable.\n",
              "      </output>\n",
              "      <script src=\"/nbextensions/google.colab/files.js\"></script> "
            ],
            "text/plain": [
              "<IPython.core.display.HTML object>"
            ]
          },
          "metadata": {
            "tags": []
          }
        },
        {
          "output_type": "stream",
          "text": [
            "Saving kaggle.json to kaggle.json\n"
          ],
          "name": "stdout"
        },
        {
          "output_type": "execute_result",
          "data": {
            "text/plain": [
              "{'kaggle.json': b'{\"username\":\"renatalucia\",\"key\":\"7f35d1eff8235434d4449562279d1adb\"}'}"
            ]
          },
          "metadata": {
            "tags": []
          },
          "execution_count": 2
        }
      ]
    },
    {
      "cell_type": "code",
      "metadata": {
        "id": "tyoC0PzkH25k"
      },
      "source": [
        "#Make directory named kaggle and copy kaggle.json file there.\n",
        "! mkdir ~/.kaggle\n",
        "\n",
        "! cp kaggle.json ~/.kaggle/\n",
        "\n",
        "#Change the permissions of the file.\n",
        "! chmod 600 ~/.kaggle/kaggle.json"
      ],
      "execution_count": 3,
      "outputs": []
    },
    {
      "cell_type": "code",
      "metadata": {
        "colab": {
          "base_uri": "https://localhost:8080/"
        },
        "id": "Q0fQszbeHiX8",
        "outputId": "7a8bcdd9-3890-4bc5-e309-5aa0022bc651"
      },
      "source": [
        "!kaggle competitions download -c tabular-playground-series-apr-2021"
      ],
      "execution_count": 11,
      "outputs": [
        {
          "output_type": "stream",
          "text": [
            "Warning: Looks like you're using an outdated API Version, please consider updating (server 1.5.12 / client 1.5.4)\n",
            "sample_submission.csv: Skipping, found more recently modified local copy (use --force to force download)\n",
            "train.csv.zip: Skipping, found more recently modified local copy (use --force to force download)\n",
            "test.csv.zip: Skipping, found more recently modified local copy (use --force to force download)\n"
          ],
          "name": "stdout"
        }
      ]
    },
    {
      "cell_type": "code",
      "metadata": {
        "colab": {
          "base_uri": "https://localhost:8080/"
        },
        "id": "dUNxKx1AH-QR",
        "outputId": "67f72c25-055a-4fe8-a346-9d725ac7cf14"
      },
      "source": [
        "!ls /content"
      ],
      "execution_count": 12,
      "outputs": [
        {
          "output_type": "stream",
          "text": [
            "kaggle.json  sample_data  sample_submission.csv  test.csv.zip  train.csv.zip\n"
          ],
          "name": "stdout"
        }
      ]
    },
    {
      "cell_type": "code",
      "metadata": {
        "colab": {
          "base_uri": "https://localhost:8080/"
        },
        "id": "7yB91kJAIOlT",
        "outputId": "1f1c078d-2866-4125-abf9-62b05fecdb0d"
      },
      "source": [
        "#!unzip /content/tabular-playground-series-apr-2021.zip -d playground\n",
        "!unzip /content/train.csv.zip -d playground\n",
        "!unzip /content/test.csv.zip -d playground"
      ],
      "execution_count": 13,
      "outputs": [
        {
          "output_type": "stream",
          "text": [
            "Archive:  /content/train.csv.zip\n",
            "  inflating: playground/train.csv    \n",
            "Archive:  /content/test.csv.zip\n",
            "  inflating: playground/test.csv     \n"
          ],
          "name": "stdout"
        }
      ]
    },
    {
      "cell_type": "markdown",
      "metadata": {
        "id": "fn3y6Mz2UTZL"
      },
      "source": [
        "# Exploratory Data Analysis"
      ]
    },
    {
      "cell_type": "code",
      "metadata": {
        "id": "HFOcb9ncIvqU"
      },
      "source": [
        "import pandas as pd\n",
        "import numpy as np\n",
        "import matplotlib.pyplot as plt"
      ],
      "execution_count": 16,
      "outputs": []
    },
    {
      "cell_type": "code",
      "metadata": {
        "colab": {
          "base_uri": "https://localhost:8080/"
        },
        "id": "QbVpJ0pWIo2c",
        "outputId": "3a6973fc-3971-4704-df3f-59d824c06121"
      },
      "source": [
        "df_train = pd.read_csv('/content/playground/train.csv')\n",
        "print(df_train.columns)\n",
        "print(len(df_train.columns))\n",
        "print(df_train.head(100))"
      ],
      "execution_count": 17,
      "outputs": [
        {
          "output_type": "stream",
          "text": [
            "Index(['PassengerId', 'Survived', 'Pclass', 'Name', 'Sex', 'Age', 'SibSp',\n",
            "       'Parch', 'Ticket', 'Fare', 'Cabin', 'Embarked'],\n",
            "      dtype='object')\n",
            "12\n",
            "    PassengerId  Survived  Pclass  ...    Fare   Cabin  Embarked\n",
            "0             0         1       1  ...   27.14  C12239         S\n",
            "1             1         0       3  ...   13.35     NaN         S\n",
            "2             2         0       3  ...   71.29     NaN         S\n",
            "3             3         0       3  ...   13.04     NaN         S\n",
            "4             4         1       3  ...    7.76     NaN         S\n",
            "..          ...       ...     ...  ...     ...     ...       ...\n",
            "95           95         1       2  ...   32.24     NaN         S\n",
            "96           96         1       2  ...   26.46     NaN         Q\n",
            "97           97         1       1  ...  131.28   D7415         Q\n",
            "98           98         1       2  ...   27.88     NaN         S\n",
            "99           99         1       1  ...  278.56  C16097         C\n",
            "\n",
            "[100 rows x 12 columns]\n"
          ],
          "name": "stdout"
        }
      ]
    },
    {
      "cell_type": "code",
      "metadata": {
        "colab": {
          "base_uri": "https://localhost:8080/"
        },
        "id": "njSBU7kCgQg5",
        "outputId": "de758e00-e41f-413b-9b33-d3d770eacd4e"
      },
      "source": [
        "df_test = pd.read_csv('/content/playground/test.csv')\n",
        "print(df_test.columns)\n",
        "print(len(df_test.columns))\n",
        "print(df_test.head(100))"
      ],
      "execution_count": 18,
      "outputs": [
        {
          "output_type": "stream",
          "text": [
            "Index(['PassengerId', 'Pclass', 'Name', 'Sex', 'Age', 'SibSp', 'Parch',\n",
            "       'Ticket', 'Fare', 'Cabin', 'Embarked'],\n",
            "      dtype='object')\n",
            "11\n",
            "    PassengerId  Pclass              Name  ...   Fare   Cabin  Embarked\n",
            "0        100000       3  Holliday, Daniel  ...  63.01     NaN         S\n",
            "1        100001       3  Nguyen, Lorraine  ...   5.81     NaN         S\n",
            "2        100002       1   Harris, Heather  ...  38.91  B15315         C\n",
            "3        100003       2      Larsen, Eric  ...  12.93     NaN         S\n",
            "4        100004       1     Cleary, Sarah  ...  26.89  B22515         C\n",
            "..          ...     ...               ...  ...    ...     ...       ...\n",
            "95       100095       3     Guzma, Donald  ...   8.48     NaN         S\n",
            "96       100096       3     Mclean, Robin  ...  12.76     NaN         C\n",
            "97       100097       2    Lopez, Darlene  ...   6.17     NaN         S\n",
            "98       100098       3     Tobe, Enrique  ...  11.64  A10911         S\n",
            "99       100099       3   Ricker, Matthew  ...  31.12     NaN         S\n",
            "\n",
            "[100 rows x 11 columns]\n"
          ],
          "name": "stdout"
        }
      ]
    },
    {
      "cell_type": "code",
      "metadata": {
        "colab": {
          "base_uri": "https://localhost:8080/"
        },
        "id": "1pJRwNPRgcM6",
        "outputId": "af3bf387-bcdf-4dd7-a04a-ee136e65f9a4"
      },
      "source": [
        "print(df_train.shape)\n",
        "print(df_test.shape)"
      ],
      "execution_count": 19,
      "outputs": [
        {
          "output_type": "stream",
          "text": [
            "(100000, 12)\n",
            "(100000, 11)\n"
          ],
          "name": "stdout"
        }
      ]
    },
    {
      "cell_type": "code",
      "metadata": {
        "colab": {
          "base_uri": "https://localhost:8080/",
          "height": 255
        },
        "id": "zc1gqjs6hYIa",
        "outputId": "c8eb047e-99a2-445c-e489-6f123986ba9e"
      },
      "source": [
        "pd.set_option('display.max_columns', 12)\n",
        "pd.set_option('display.width', 1000)\n",
        "df_train.head()"
      ],
      "execution_count": 20,
      "outputs": [
        {
          "output_type": "execute_result",
          "data": {
            "text/html": [
              "<div>\n",
              "<style scoped>\n",
              "    .dataframe tbody tr th:only-of-type {\n",
              "        vertical-align: middle;\n",
              "    }\n",
              "\n",
              "    .dataframe tbody tr th {\n",
              "        vertical-align: top;\n",
              "    }\n",
              "\n",
              "    .dataframe thead th {\n",
              "        text-align: right;\n",
              "    }\n",
              "</style>\n",
              "<table border=\"1\" class=\"dataframe\">\n",
              "  <thead>\n",
              "    <tr style=\"text-align: right;\">\n",
              "      <th></th>\n",
              "      <th>PassengerId</th>\n",
              "      <th>Survived</th>\n",
              "      <th>Pclass</th>\n",
              "      <th>Name</th>\n",
              "      <th>Sex</th>\n",
              "      <th>Age</th>\n",
              "      <th>SibSp</th>\n",
              "      <th>Parch</th>\n",
              "      <th>Ticket</th>\n",
              "      <th>Fare</th>\n",
              "      <th>Cabin</th>\n",
              "      <th>Embarked</th>\n",
              "    </tr>\n",
              "  </thead>\n",
              "  <tbody>\n",
              "    <tr>\n",
              "      <th>0</th>\n",
              "      <td>0</td>\n",
              "      <td>1</td>\n",
              "      <td>1</td>\n",
              "      <td>Oconnor, Frankie</td>\n",
              "      <td>male</td>\n",
              "      <td>NaN</td>\n",
              "      <td>2</td>\n",
              "      <td>0</td>\n",
              "      <td>209245</td>\n",
              "      <td>27.14</td>\n",
              "      <td>C12239</td>\n",
              "      <td>S</td>\n",
              "    </tr>\n",
              "    <tr>\n",
              "      <th>1</th>\n",
              "      <td>1</td>\n",
              "      <td>0</td>\n",
              "      <td>3</td>\n",
              "      <td>Bryan, Drew</td>\n",
              "      <td>male</td>\n",
              "      <td>NaN</td>\n",
              "      <td>0</td>\n",
              "      <td>0</td>\n",
              "      <td>27323</td>\n",
              "      <td>13.35</td>\n",
              "      <td>NaN</td>\n",
              "      <td>S</td>\n",
              "    </tr>\n",
              "    <tr>\n",
              "      <th>2</th>\n",
              "      <td>2</td>\n",
              "      <td>0</td>\n",
              "      <td>3</td>\n",
              "      <td>Owens, Kenneth</td>\n",
              "      <td>male</td>\n",
              "      <td>0.33</td>\n",
              "      <td>1</td>\n",
              "      <td>2</td>\n",
              "      <td>CA 457703</td>\n",
              "      <td>71.29</td>\n",
              "      <td>NaN</td>\n",
              "      <td>S</td>\n",
              "    </tr>\n",
              "    <tr>\n",
              "      <th>3</th>\n",
              "      <td>3</td>\n",
              "      <td>0</td>\n",
              "      <td>3</td>\n",
              "      <td>Kramer, James</td>\n",
              "      <td>male</td>\n",
              "      <td>19.00</td>\n",
              "      <td>0</td>\n",
              "      <td>0</td>\n",
              "      <td>A. 10866</td>\n",
              "      <td>13.04</td>\n",
              "      <td>NaN</td>\n",
              "      <td>S</td>\n",
              "    </tr>\n",
              "    <tr>\n",
              "      <th>4</th>\n",
              "      <td>4</td>\n",
              "      <td>1</td>\n",
              "      <td>3</td>\n",
              "      <td>Bond, Michael</td>\n",
              "      <td>male</td>\n",
              "      <td>25.00</td>\n",
              "      <td>0</td>\n",
              "      <td>0</td>\n",
              "      <td>427635</td>\n",
              "      <td>7.76</td>\n",
              "      <td>NaN</td>\n",
              "      <td>S</td>\n",
              "    </tr>\n",
              "  </tbody>\n",
              "</table>\n",
              "</div>"
            ],
            "text/plain": [
              "   PassengerId  Survived  Pclass              Name   Sex    Age  SibSp  Parch     Ticket   Fare   Cabin Embarked\n",
              "0            0         1       1  Oconnor, Frankie  male    NaN      2      0     209245  27.14  C12239        S\n",
              "1            1         0       3       Bryan, Drew  male    NaN      0      0      27323  13.35     NaN        S\n",
              "2            2         0       3    Owens, Kenneth  male   0.33      1      2  CA 457703  71.29     NaN        S\n",
              "3            3         0       3     Kramer, James  male  19.00      0      0   A. 10866  13.04     NaN        S\n",
              "4            4         1       3     Bond, Michael  male  25.00      0      0     427635   7.76     NaN        S"
            ]
          },
          "metadata": {
            "tags": []
          },
          "execution_count": 20
        }
      ]
    },
    {
      "cell_type": "markdown",
      "metadata": {
        "id": "cUpFnPEuUkSs"
      },
      "source": [
        "## Missing values"
      ]
    },
    {
      "cell_type": "code",
      "metadata": {
        "colab": {
          "base_uri": "https://localhost:8080/"
        },
        "id": "bU4eCAmpgPVD",
        "outputId": "c88201c3-88ab-49fa-b3d4-45d9f1daa4af"
      },
      "source": [
        "# Check missing values\n",
        "print('Missing values per columns in train dataset')\n",
        "xlabels = []\n",
        "yvalues = []\n",
        "y2values = []\n",
        "n_train = len(df_train)\n",
        "n_test = len(df_test)\n",
        "for col in df_train.columns:\n",
        "    temp_col = df_train[col].isnull().sum()\n",
        "    if col!=\"Survived\":\n",
        "      xlabels.append(col)\n",
        "      yvalues.append(temp_col /n_train)\n",
        "      print(f\"{col}: {temp_col}\")\n",
        "print()\n",
        "print('Missing values per columns in test dataset')\n",
        "for col in df_test.columns:\n",
        "    temp_col = df_test[col].isnull().sum()\n",
        "    y2values.append(temp_col /n_test)\n",
        "    print(f\"{col}: {temp_col}\")"
      ],
      "execution_count": 21,
      "outputs": [
        {
          "output_type": "stream",
          "text": [
            "Missing values per columns in train dataset\n",
            "PassengerId: 0\n",
            "Pclass: 0\n",
            "Name: 0\n",
            "Sex: 0\n",
            "Age: 3292\n",
            "SibSp: 0\n",
            "Parch: 0\n",
            "Ticket: 4623\n",
            "Fare: 134\n",
            "Cabin: 67866\n",
            "Embarked: 250\n",
            "\n",
            "Missing values per columns in test dataset\n",
            "PassengerId: 0\n",
            "Pclass: 0\n",
            "Name: 0\n",
            "Sex: 0\n",
            "Age: 3487\n",
            "SibSp: 0\n",
            "Parch: 0\n",
            "Ticket: 5181\n",
            "Fare: 133\n",
            "Cabin: 70831\n",
            "Embarked: 277\n"
          ],
          "name": "stdout"
        }
      ]
    },
    {
      "cell_type": "markdown",
      "metadata": {
        "id": "ojnj_8-9CGnf"
      },
      "source": [
        "### Plot missing values for train and test datasets"
      ]
    },
    {
      "cell_type": "code",
      "metadata": {
        "id": "5eziupW9d9Mo",
        "colab": {
          "base_uri": "https://localhost:8080/",
          "height": 346
        },
        "outputId": "1e58e1d4-6015-4f76-fcb5-ee96f09cbe8a"
      },
      "source": [
        "# Plot chart\n",
        "df = pd.DataFrame({\n",
        "      'feature': xlabels,\n",
        "      'train': yvalues,\n",
        "      'test': y2values\n",
        "      \n",
        "  })\n",
        "df.plot(x='feature',\n",
        "        kind=\"bar\",\n",
        "        title = \"Missing values %\")\n",
        "plt.show()"
      ],
      "execution_count": 22,
      "outputs": [
        {
          "output_type": "display_data",
          "data": {
            "image/png": "[encoded data removed]",
            "text/plain": [
              "<Figure size 432x288 with 1 Axes>"
            ]
          },
          "metadata": {
            "tags": [],
            "needs_background": "light"
          }
        }
      ]
    },
    {
      "cell_type": "markdown",
      "metadata": {
        "id": "v5XEG3NVrcvo"
      },
      "source": [
        "## Feature distributions for train and test datasets"
      ]
    },
    {
      "cell_type": "code",
      "metadata": {
        "id": "A6q0Ol-G7dcj"
      },
      "source": [
        "# Features \"PassengerId\", \"Name\" and \"Ticket\" are not considered \n",
        "# because they are specific for each passenger. Since their values \n",
        "# do not coincide in train and test datasets there is not much to \n",
        "# learn from them.\n",
        "\n",
        "# Cabin will not be used because of the huge amount of null values.\n",
        "\n",
        "# Survived is the target feature."
      ],
      "execution_count": 23,
      "outputs": []
    },
    {
      "cell_type": "markdown",
      "metadata": {
        "id": "G62phWDj9SUy"
      },
      "source": [
        "### Plot distributions of features with categorical values\n",
        "\n"
      ]
    },
    {
      "cell_type": "code",
      "metadata": {
        "id": "tJz4orbl5qHb"
      },
      "source": [
        "# count occurrences of each feature value (train dataset)\n",
        "df_counts_train = {}\n",
        "for col in df_train.columns:\n",
        "  \n",
        "  if col in [\"PassengerId\", \"Survived\", \"Name\", \"Ticket\"]:\n",
        "    continue\n",
        "\n",
        "  s = df_train[col].value_counts()\n",
        "  df_feat_dist = pd.DataFrame({col: s.index, \"sum\":s.values})\n",
        "  df_counts_train[col] = df_feat_dist\n"
      ],
      "execution_count": 24,
      "outputs": []
    },
    {
      "cell_type": "code",
      "metadata": {
        "id": "AL3qZE-D7GP1"
      },
      "source": [
        "# count occurrences of each feature value (test dataset)\n",
        "df_counts_test = {}\n",
        "for col in df_test.columns:\n",
        "  \n",
        "  if col in [\"PassengerId\", \"Survived\", \"Name\", \"Ticket\"]:\n",
        "    continue\n",
        "\n",
        "  s = df_test[col].value_counts()\n",
        "  df_feat_dist = pd.DataFrame({col: s.index, \"sum\":s.values})\n",
        "  df_counts_test[col] = df_feat_dist"
      ],
      "execution_count": 25,
      "outputs": []
    },
    {
      "cell_type": "code",
      "metadata": {
        "colab": {
          "base_uri": "https://localhost:8080/",
          "height": 1000
        },
        "id": "IYRuAvFN83v-",
        "outputId": "2e18b057-2c8c-479f-f35c-531071c3be32"
      },
      "source": [
        "\n",
        "# importing pandas library\n",
        "import pandas as pd\n",
        "# import matplotlib library\n",
        "import matplotlib.pyplot as plt\n",
        "\n",
        "for col, df in df_counts_train.items():\n",
        "\n",
        "  print(col)\n",
        "\n",
        "  if col not in  [\"Sex\", \"Pclass\", \"SibSp\",\"Parch\", \n",
        "                 \"Embarked\"]:\n",
        "    continue\n",
        "\n",
        "  xlabels = []\n",
        "  y1values = []\n",
        "  y2values = []\n",
        "  for item in df_counts_train[col][col]:\n",
        "    xlabels.append(item)\n",
        "\n",
        "    y1values.append(df_counts_train[col].loc[df_counts_train[col][col]==item][\"sum\"].item())\n",
        "\n",
        "    y2values.append(df_counts_test[col].loc[df_counts_test[col][col]==item][\"sum\"].item())\n",
        "\n",
        "  # creating dataframe\n",
        "  df = pd.DataFrame({\n",
        "      col: xlabels,\n",
        "      'Train': y1values,\n",
        "      'Test': y2values\n",
        "  })\n",
        "    \n",
        "  # plotting graph \n",
        "  df.plot(x=col, y=[\"Train\", \"Test\"], kind=\"bar\")"
      ],
      "execution_count": 26,
      "outputs": [
        {
          "output_type": "stream",
          "text": [
            "Pclass\n",
            "Sex\n",
            "Age\n",
            "SibSp\n",
            "Parch\n",
            "Fare\n",
            "Cabin\n",
            "Embarked\n"
          ],
          "name": "stdout"
        },
        {
          "output_type": "display_data",
          "data": {
            "image/png": "[encoded data removed]",
            "text/plain": [
              "<Figure size 432x288 with 1 Axes>"
            ]
          },
          "metadata": {
            "tags": [],
            "needs_background": "light"
          }
        },
        {
          "output_type": "display_data",
          "data": {
            "image/png": "[encoded data removed]",
            "text/plain": [
              "<Figure size 432x288 with 1 Axes>"
            ]
          },
          "metadata": {
            "tags": [],
            "needs_background": "light"
          }
        },
        {
          "output_type": "display_data",
          "data": {
            "image/png": "[encoded data removed]",
            "text/plain": [
              "<Figure size 432x288 with 1 Axes>"
            ]
          },
          "metadata": {
            "tags": [],
            "needs_background": "light"
          }
        },
        {
          "output_type": "display_data",
          "data": {
            "image/png": "[encoded data removed]",
            "text/plain": [
              "<Figure size 432x288 with 1 Axes>"
            ]
          },
          "metadata": {
            "tags": [],
            "needs_background": "light"
          }
        },
        {
          "output_type": "display_data",
          "data": {
            "image/png": "[encoded data removed]",
            "text/plain": [
              "<Figure size 432x288 with 1 Axes>"
            ]
          },
          "metadata": {
            "tags": [],
            "needs_background": "light"
          }
        }
      ]
    },
    {
      "cell_type": "markdown",
      "metadata": {
        "id": "S1X2JmL2A_LU"
      },
      "source": [
        "### Plot distribution of features with real values\n",
        "\n",
        "The probability density function of each feature is estimated using KDE (Kernel Density Estimation) "
      ]
    },
    {
      "cell_type": "code",
      "metadata": {
        "id": "cenXoaiDJZwK"
      },
      "source": [
        "df_age = pd.concat([df_train[\"Age\"], df_test[\"Age\"]], keys=[\"train\", \"test\"], names=['type', 'rowid']).reset_index()\n",
        "df_fare = pd.concat([df_train[\"Fare\"], df_test[\"Fare\"]], keys=[\"train\", \"test\"], names=['type', 'rowid']).reset_index()"
      ],
      "execution_count": 27,
      "outputs": []
    },
    {
      "cell_type": "code",
      "metadata": {
        "colab": {
          "base_uri": "https://localhost:8080/",
          "height": 333
        },
        "id": "AF7WYO4BloE7",
        "outputId": "c86caee8-0333-41ed-f431-cb5952c70a24"
      },
      "source": [
        "df_age.groupby('type').Age.plot(kind='kde', legend=True, xlim= [df_age[\"Age\"].min(), df_age[\"Age\"].max()])"
      ],
      "execution_count": 28,
      "outputs": [
        {
          "output_type": "execute_result",
          "data": {
            "text/plain": [
              "type\n",
              "test     AxesSubplot(0.125,0.125;0.775x0.755)\n",
              "train    AxesSubplot(0.125,0.125;0.775x0.755)\n",
              "Name: Age, dtype: object"
            ]
          },
          "metadata": {
            "tags": []
          },
          "execution_count": 28
        },
        {
          "output_type": "display_data",
          "data": {
            "image/png": "[encoded data removed]",
            "text/plain": [
              "<Figure size 432x288 with 1 Axes>"
            ]
          },
          "metadata": {
            "tags": [],
            "needs_background": "light"
          }
        }
      ]
    },
    {
      "cell_type": "code",
      "metadata": {
        "colab": {
          "base_uri": "https://localhost:8080/",
          "height": 333
        },
        "id": "mM048W2ZrwT8",
        "outputId": "5beedcdd-3d21-456d-a7c7-740f1a5379a3"
      },
      "source": [
        "df_fare.groupby('type').Fare.plot(kind='kde', legend=True, xlim= [df_fare[\"Fare\"].min(), df_fare[\"Fare\"].max()])"
      ],
      "execution_count": 29,
      "outputs": [
        {
          "output_type": "execute_result",
          "data": {
            "text/plain": [
              "type\n",
              "test     AxesSubplot(0.125,0.125;0.775x0.755)\n",
              "train    AxesSubplot(0.125,0.125;0.775x0.755)\n",
              "Name: Fare, dtype: object"
            ]
          },
          "metadata": {
            "tags": []
          },
          "execution_count": 29
        },
        {
          "output_type": "display_data",
          "data": {
            "image/png": "[encoded data removed]",
            "text/plain": [
              "<Figure size 432x288 with 1 Axes>"
            ]
          },
          "metadata": {
            "tags": [],
            "needs_background": "light"
          }
        }
      ]
    },
    {
      "cell_type": "markdown",
      "metadata": {
        "id": "4Auue0rVa9u7"
      },
      "source": [
        "## Distribution of target feature (Survived)"
      ]
    },
    {
      "cell_type": "code",
      "metadata": {
        "colab": {
          "base_uri": "https://localhost:8080/"
        },
        "id": "PmiZTbHsiZJ8",
        "outputId": "0d81dd36-081e-45ea-c02e-550e8c6cb185"
      },
      "source": [
        "df_dist = df_train[\"Survived\"].value_counts()\n",
        "print(df_dist)\n",
        "print()\n",
        "print(\"Not Survived: \" + str(np.array(df_dist)[0]/np.array(df_dist).sum()) + \"%\")\n",
        "print(\"Survived: \" + str(np.array(df_dist)[1]/np.array(df_dist).sum()) + \"%\")"
      ],
      "execution_count": 30,
      "outputs": [
        {
          "output_type": "stream",
          "text": [
            "0    57226\n",
            "1    42774\n",
            "Name: Survived, dtype: int64\n",
            "\n",
            "Not Survived: 0.57226%\n",
            "Survived: 0.42774%\n"
          ],
          "name": "stdout"
        }
      ]
    },
    {
      "cell_type": "code",
      "metadata": {
        "colab": {
          "base_uri": "https://localhost:8080/",
          "height": 269
        },
        "id": "qC9dy-eZkQRD",
        "outputId": "a87a04da-9b64-47fd-d01c-891068ba8f67"
      },
      "source": [
        "plt.bar([\"Not Survived\",\"Survived\"], np.array(df_dist))\n",
        "plt.show()"
      ],
      "execution_count": 31,
      "outputs": [
        {
          "output_type": "display_data",
          "data": {
            "image/png": "[encoded data removed]",
            "text/plain": [
              "<Figure size 432x288 with 1 Axes>"
            ]
          },
          "metadata": {
            "tags": [],
            "needs_background": "light"
          }
        }
      ]
    },
    {
      "cell_type": "markdown",
      "metadata": {
        "id": "36wwWCJVpmgm"
      },
      "source": [
        "## Survival rates according to parameters \n"
      ]
    },
    {
      "cell_type": "markdown",
      "metadata": {
        "id": "VBsGND9N2SWH"
      },
      "source": [
        "### Parameters with categorical values\n",
        "\n",
        "Two charts are plotted for each feature.\n",
        "\n",
        "The first chart compares survival and non-survival rates. \n",
        "\n",
        "The second chart shows survival rates given that a passenger belongs to a certain class.\n",
        "\n",
        "Take the \"Sex\" charts as example. The fisrt shows that around 30% of the passengers that survived are female. The second chart shows that around 70% of the females survived.\n"
      ]
    },
    {
      "cell_type": "code",
      "metadata": {
        "colab": {
          "base_uri": "https://localhost:8080/"
        },
        "id": "eFmk8DGzBCl4",
        "outputId": "30ba57f9-aff4-4e63-fec6-7f8fa2a4328c"
      },
      "source": [
        "df_train.columns"
      ],
      "execution_count": 32,
      "outputs": [
        {
          "output_type": "execute_result",
          "data": {
            "text/plain": [
              "Index(['PassengerId', 'Survived', 'Pclass', 'Name', 'Sex', 'Age', 'SibSp', 'Parch', 'Ticket', 'Fare', 'Cabin', 'Embarked'], dtype='object')"
            ]
          },
          "metadata": {
            "tags": []
          },
          "execution_count": 32
        }
      ]
    },
    {
      "cell_type": "code",
      "metadata": {
        "colab": {
          "base_uri": "https://localhost:8080/",
          "height": 1000
        },
        "id": "H73nQjoApo4o",
        "outputId": "a426db01-fb9a-46a2-e9ef-05511119e047"
      },
      "source": [
        "total_pessengers = len(df_train)\n",
        "for col in df_train.columns:\n",
        "\n",
        "  if col not in  [\"Sex\", \"Pclass\", \"SibSp\",\"Parch\", \n",
        "                 \"Embarked\"]:\n",
        "\n",
        "    continue\n",
        "\n",
        "  \n",
        "  df_survived = df_train.loc[df_train['Survived'] == 1][col].value_counts()\n",
        "  df_survived_perc = df_survived / total_pessengers\n",
        "  df_not_survived = df_train.loc[df_train['Survived'] == 0][col].value_counts()\n",
        "  df_not_survived_perc = df_not_survived / total_pessengers\n",
        "\n",
        "\n",
        "  xlabels = []\n",
        "  y1values = []\n",
        "  y2values = []\n",
        "  for k, v in df_survived_perc.items():\n",
        "    xlabels.append(k)\n",
        "    y1values.append(df_survived_perc[k])\n",
        "    y2values.append(df_not_survived_perc[k])\n",
        "\n",
        "  df = pd.DataFrame({\n",
        "      col: xlabels,\n",
        "      'Survived': y1values,\n",
        "      'Not Survived': y2values\n",
        "  })\n",
        "\n",
        "  df.plot(x=col, \n",
        "          y=[\"Survived\", \"Not Survived\"], \n",
        "          kind=\"bar\",\n",
        "          title=\" {} - Survival rate\".format(col) +\n",
        "            \" with respect to total passengers\")\n",
        "  plt.show()\n",
        "\n",
        "  df_total = df_train[col].value_counts()\n",
        "\n",
        "  df_survived_perc = df_survived / df_total\n",
        "  df_survived_perc.plot(x=df_survived_perc.values, \n",
        "                        y=np.array(df_survived_perc.index), \n",
        "                        kind=\"bar\", \n",
        "                        color = \"orange\",\n",
        "                        title=\"{} - survival rate\".format(col)+\n",
        "                          \" given that a passenger has column value x\")\n",
        "  plt.show()\n",
        "  print()"
      ],
      "execution_count": 33,
      "outputs": [
        {
          "output_type": "display_data",
          "data": {
            "image/png": "[encoded data removed]",
            "text/plain": [
              "<Figure size 432x288 with 1 Axes>"
            ]
          },
          "metadata": {
            "tags": [],
            "needs_background": "light"
          }
        },
        {
          "output_type": "display_data",
          "data": {
            "image/png": "[encoded data removed]",
            "text/plain": [
              "<Figure size 432x288 with 1 Axes>"
            ]
          },
          "metadata": {
            "tags": [],
            "needs_background": "light"
          }
        },
        {
          "output_type": "stream",
          "text": [
            "\n"
          ],
          "name": "stdout"
        },
        {
          "output_type": "display_data",
          "data": {
            "image/png": "[encoded data removed]",
            "text/plain": [
              "<Figure size 432x288 with 1 Axes>"
            ]
          },
          "metadata": {
            "tags": [],
            "needs_background": "light"
          }
        },
        {
          "output_type": "display_data",
          "data": {
            "image/png": "[encoded data removed]",
            "text/plain": [
              "<Figure size 432x288 with 1 Axes>"
            ]
          },
          "metadata": {
            "tags": [],
            "needs_background": "light"
          }
        },
        {
          "output_type": "stream",
          "text": [
            "\n"
          ],
          "name": "stdout"
        },
        {
          "output_type": "display_data",
          "data": {
            "image/png": "[encoded data removed]",
            "text/plain": [
              "<Figure size 432x288 with 1 Axes>"
            ]
          },
          "metadata": {
            "tags": [],
            "needs_background": "light"
          }
        },
        {
          "output_type": "display_data",
          "data": {
            "image/png": "[encoded data removed]",
            "text/plain": [
              "<Figure size 432x288 with 1 Axes>"
            ]
          },
          "metadata": {
            "tags": [],
            "needs_background": "light"
          }
        },
        {
          "output_type": "stream",
          "text": [
            "\n"
          ],
          "name": "stdout"
        },
        {
          "output_type": "display_data",
          "data": {
            "image/png": "[encoded data removed]",
            "text/plain": [
              "<Figure size 432x288 with 1 Axes>"
            ]
          },
          "metadata": {
            "tags": [],
            "needs_background": "light"
          }
        },
        {
          "output_type": "display_data",
          "data": {
            "image/png": "[encoded data removed]",
            "text/plain": [
              "<Figure size 432x288 with 1 Axes>"
            ]
          },
          "metadata": {
            "tags": [],
            "needs_background": "light"
          }
        },
        {
          "output_type": "stream",
          "text": [
            "\n"
          ],
          "name": "stdout"
        },
        {
          "output_type": "display_data",
          "data": {
            "image/png": "[encoded data removed]",
            "text/plain": [
              "<Figure size 432x288 with 1 Axes>"
            ]
          },
          "metadata": {
            "tags": [],
            "needs_background": "light"
          }
        },
        {
          "output_type": "display_data",
          "data": {
            "image/png": "[encoded data removed]",
            "text/plain": [
              "<Figure size 432x288 with 1 Axes>"
            ]
          },
          "metadata": {
            "tags": [],
            "needs_background": "light"
          }
        },
        {
          "output_type": "stream",
          "text": [
            "\n"
          ],
          "name": "stdout"
        }
      ]
    },
    {
      "cell_type": "markdown",
      "metadata": {
        "id": "_i_WNG212cbQ"
      },
      "source": [
        "### Parameters with real values\n",
        "\n",
        "The probability density function of each feature is estimated using KDE (Kernel Density Estimation)"
      ]
    },
    {
      "cell_type": "code",
      "metadata": {
        "colab": {
          "base_uri": "https://localhost:8080/",
          "height": 545
        },
        "id": "7YWCVfkappCI",
        "outputId": "ab4f51cd-4bda-4c3f-ea5c-efb668991cbd"
      },
      "source": [
        "for col in [\"Age\", \"Fare\"]:\n",
        "  df_train.loc[df_train[\"Survived\"]==1][col].plot(\n",
        "      kind='kde', \n",
        "      legend=True, \n",
        "      label = \"Survived\",\n",
        "      xlim = [df_train[col].min(), \n",
        "      df_train[col].max()],\n",
        "      title = \"{} - Survival rate\".format(col)\n",
        "  )\n",
        "  \n",
        "  df_train.loc[df_train[\"Survived\"]==0][col].plot(kind='kde', \n",
        "                                               legend=True, \n",
        "                                               color = \"orange\",\n",
        "                                               label = \"Not Survived\",\n",
        "                                               xlim= [df_train[col].min(), \n",
        "                                                      df_train[col].max()])\n",
        "  plt.show()"
      ],
      "execution_count": 34,
      "outputs": [
        {
          "output_type": "display_data",
          "data": {
            "image/png": "[encoded data removed]",
            "text/plain": [
              "<Figure size 432x288 with 1 Axes>"
            ]
          },
          "metadata": {
            "tags": [],
            "needs_background": "light"
          }
        },
        {
          "output_type": "display_data",
          "data": {
            "image/png": "[encoded data removed]",
            "text/plain": [
              "<Figure size 432x288 with 1 Axes>"
            ]
          },
          "metadata": {
            "tags": [],
            "needs_background": "light"
          }
        }
      ]
    },
    {
      "cell_type": "markdown",
      "metadata": {
        "id": "vzJQBEvdCcTI"
      },
      "source": [
        "## Search best features for the classification problem\n",
        "\n"
      ]
    },
    {
      "cell_type": "markdown",
      "metadata": {
        "id": "78ATd2nAB4he"
      },
      "source": [
        "From the charts above features \"Sex\", \"Pclass\", \"Embarked\", \"Fare\" and \"Age\" seem to be most correlated to the target feature (survived).\n",
        "\n",
        "Let's check this more precesiley using a statistical test in the following. "
      ]
    },
    {
      "cell_type": "markdown",
      "metadata": {
        "id": "5_KWfO9TC5dW"
      },
      "source": [
        "Missing values are treated here are a separate class"
      ]
    },
    {
      "cell_type": "markdown",
      "metadata": {
        "id": "1Jd0OIdbu3rl"
      },
      "source": [
        "### Categorical columns preprocessing"
      ]
    },
    {
      "cell_type": "code",
      "metadata": {
        "id": "k3E6AGMlu3rl"
      },
      "source": [
        "df_train[\"Sex\"] = pd.Categorical(df_train[\"Sex\"])\n",
        "df_train[\"Sex\"] = np.array(df_train.Sex.cat.codes)"
      ],
      "execution_count": 35,
      "outputs": []
    },
    {
      "cell_type": "code",
      "metadata": {
        "id": "jjxC2q3Mu3rm"
      },
      "source": [
        "df_train[\"Embarked\"] = pd.Categorical(df_train[\"Embarked\"])\n",
        "\n",
        "# Add 1 because NAN was map to -1\n",
        "df_train[\"Embarked\"] = np.array(df_train.Embarked.cat.codes + 1)"
      ],
      "execution_count": 36,
      "outputs": []
    },
    {
      "cell_type": "code",
      "metadata": {
        "id": "hzvOxsz2u3rm"
      },
      "source": [
        "df_train[\"Ticket\"] = pd.Categorical(df_train[\"Ticket\"])\n",
        "\n",
        "# Add 1 because NAN was map to -1\n",
        "df_train[\"Ticket\"] = np.array(df_train.Ticket.cat.codes + 1)"
      ],
      "execution_count": 37,
      "outputs": []
    },
    {
      "cell_type": "code",
      "metadata": {
        "id": "2iTXcbfpRaFK"
      },
      "source": [
        "x_train = np.array(df_train[[\"PassengerId\", \"Ticket\",  \n",
        "                             \"Fare\", \"Pclass\", \"SibSp\",\"Parch\", \n",
        "                             \"Embarked\", \"Sex\", \"Age\"]].fillna(0))\n",
        "\n",
        "feature_names = [\"PassengerId\", \"Ticket\",  \n",
        "                 \"Fare\", \"Pclass\", \"SibSp\",\"Parch\", \n",
        "                 \"Embarked\" , \"Sex\", \"Age\"]"
      ],
      "execution_count": 38,
      "outputs": []
    },
    {
      "cell_type": "code",
      "metadata": {
        "colab": {
          "base_uri": "https://localhost:8080/"
        },
        "id": "vdwGdqJYXFEc",
        "outputId": "5086abde-95ff-4094-8b65-5592d4c0161a"
      },
      "source": [
        "x_train"
      ],
      "execution_count": 39,
      "outputs": [
        {
          "output_type": "execute_result",
          "data": {
            "text/plain": [
              "array([[0.0000e+00, 1.0358e+04, 2.7140e+01, ..., 3.0000e+00, 1.0000e+00,\n",
              "        0.0000e+00],\n",
              "       [1.0000e+00, 1.7044e+04, 1.3350e+01, ..., 3.0000e+00, 1.0000e+00,\n",
              "        0.0000e+00],\n",
              "       [2.0000e+00, 5.9885e+04, 7.1290e+01, ..., 3.0000e+00, 1.0000e+00,\n",
              "        3.3000e-01],\n",
              "       ...,\n",
              "       [9.9997e+04, 0.0000e+00, 9.9500e+00, ..., 3.0000e+00, 1.0000e+00,\n",
              "        3.7000e+01],\n",
              "       [9.9998e+04, 4.3481e+04, 3.0920e+01, ..., 3.0000e+00, 1.0000e+00,\n",
              "        5.1000e+01],\n",
              "       [9.9999e+04, 4.3335e+04, 1.3960e+01, ..., 3.0000e+00, 1.0000e+00,\n",
              "        5.5000e+01]])"
            ]
          },
          "metadata": {
            "tags": []
          },
          "execution_count": 39
        }
      ]
    },
    {
      "cell_type": "code",
      "metadata": {
        "id": "4xyTL6eNRTgI"
      },
      "source": [
        "y_train = np.array(df_train[\"Survived\"])"
      ],
      "execution_count": 40,
      "outputs": []
    },
    {
      "cell_type": "markdown",
      "metadata": {
        "id": "NGdyIx7tD6-W"
      },
      "source": [
        "### Compute a score for each feature"
      ]
    },
    {
      "cell_type": "code",
      "metadata": {
        "colab": {
          "base_uri": "https://localhost:8080/"
        },
        "id": "5G9moukHQ9Rq",
        "outputId": "e5c00051-40c8-402e-88b5-1bb6ebdfd6b5"
      },
      "source": [
        "from sklearn.feature_selection import SelectKBest\n",
        "from sklearn.feature_selection import f_classif\n",
        "\n",
        "# Using ANOVA F-value between label/feature for classification tasks.\n",
        "fs = SelectKBest(score_func=f_classif, k='all')\n",
        "fs.fit(x_train, y_train)\n"
      ],
      "execution_count": 41,
      "outputs": [
        {
          "output_type": "execute_result",
          "data": {
            "text/plain": [
              "SelectKBest(k='all', score_func=<function f_classif at 0x7f187f41fd40>)"
            ]
          },
          "metadata": {
            "tags": []
          },
          "execution_count": 41
        }
      ]
    },
    {
      "cell_type": "code",
      "metadata": {
        "colab": {
          "base_uri": "https://localhost:8080/"
        },
        "id": "tsF6Y36eTBfn",
        "outputId": "0bf7c4c0-45a3-415d-ab67-c4e93ce756ab"
      },
      "source": [
        "d_scores = {}\n",
        "for i in range(len(fs.scores_)):\n",
        "  d_scores[feature_names[i]] = fs.scores_[i]\n",
        "\t#print('Feature %s: %f' % (feature_names[i], fs.scores_[i]))\n",
        "\n",
        "for k,v in dict(sorted(d_scores.items(), \n",
        "                       key=lambda item: item[1], reverse=True)).items():\n",
        "  print(k,v)\n",
        "  "
      ],
      "execution_count": 42,
      "outputs": [
        {
          "output_type": "stream",
          "text": [
            "Sex 34645.49063366199\n",
            "Embarked 15647.226737548941\n",
            "Pclass 9162.873064643562\n",
            "Fare 3635.9915476356564\n",
            "Age 962.1035380366604\n",
            "Ticket 185.0972742482985\n",
            "Parch 54.55956330400394\n",
            "SibSp 5.756985323818044\n",
            "PassengerId 0.3824200551630611\n"
          ],
          "name": "stdout"
        }
      ]
    },
    {
      "cell_type": "markdown",
      "metadata": {
        "id": "1qrurjbdfhv1"
      },
      "source": [
        "The scores confirmed what one could already see on the charts showing survival rates according to parameters. Parameters *Sex*, *Embarked*, *Pclass*, *Fare* and *Age* are most corelated to the target feature."
      ]
    },
    {
      "cell_type": "markdown",
      "metadata": {
        "id": "2HU7ZD2fEf9I"
      },
      "source": [
        "# Classification Model\n",
        "\n",
        "* A feedfoward neural network on Tensorflow was \n",
        "trained to perform the classification test.\n",
        "\n",
        "* Intially the best 5 features were used as input, but the performance was not increased compared to using only the first three best. Therefore the input vector will have dimension 3. The features used as input are: Sex, Embarked, Pclass.\n",
        "\n",
        "* The networked architecure was selected after training different options and consists simply of 1 hidden layer and one output layer.\n"
      ]
    },
    {
      "cell_type": "code",
      "metadata": {
        "id": "7B0jlIaigJdA"
      },
      "source": [
        "import tensorflow as tf"
      ],
      "execution_count": 44,
      "outputs": []
    },
    {
      "cell_type": "code",
      "metadata": {
        "id": "R5G6Bu1TiVjn"
      },
      "source": [
        "from tensorflow.keras import Sequential\n",
        "from tensorflow.keras.layers import Dense\n",
        "from tensorflow.keras.layers import Activation\n",
        "from tensorflow.keras.optimizers import Adam\n",
        "from sklearn.model_selection import train_test_split"
      ],
      "execution_count": 45,
      "outputs": []
    },
    {
      "cell_type": "code",
      "metadata": {
        "colab": {
          "base_uri": "https://localhost:8080/"
        },
        "id": "bg6CEpqigMgQ",
        "outputId": "4619628a-f6ff-4882-c57d-82075b09f118"
      },
      "source": [
        "print(tf.__version__)"
      ],
      "execution_count": 46,
      "outputs": [
        {
          "output_type": "stream",
          "text": [
            "2.4.1\n"
          ],
          "name": "stdout"
        }
      ]
    },
    {
      "cell_type": "markdown",
      "metadata": {
        "id": "sQn8SGjCGMxL"
      },
      "source": [
        "## Readind Dataset and formating for training"
      ]
    },
    {
      "cell_type": "code",
      "metadata": {
        "colab": {
          "base_uri": "https://localhost:8080/"
        },
        "id": "RWHLM38t1MBZ",
        "outputId": "55fb4097-a962-469b-9a68-85ebf180a8a9"
      },
      "source": [
        "df_train = pd.read_csv('/content/playground/train.csv')\n",
        "print(df_train.columns)\n",
        "print(len(df_train.columns))\n",
        "print(df_train.head(100))"
      ],
      "execution_count": 75,
      "outputs": [
        {
          "output_type": "stream",
          "text": [
            "Index(['PassengerId', 'Survived', 'Pclass', 'Name', 'Sex', 'Age', 'SibSp', 'Parch', 'Ticket', 'Fare', 'Cabin', 'Embarked'], dtype='object')\n",
            "12\n",
            "    PassengerId  Survived  Pclass              Name     Sex    Age  SibSp  Parch     Ticket    Fare   Cabin Embarked\n",
            "0             0         1       1  Oconnor, Frankie    male    NaN      2      0     209245   27.14  C12239        S\n",
            "1             1         0       3       Bryan, Drew    male    NaN      0      0      27323   13.35     NaN        S\n",
            "2             2         0       3    Owens, Kenneth    male   0.33      1      2  CA 457703   71.29     NaN        S\n",
            "3             3         0       3     Kramer, James    male  19.00      0      0   A. 10866   13.04     NaN        S\n",
            "4             4         1       3     Bond, Michael    male  25.00      0      0     427635    7.76     NaN        S\n",
            "..          ...       ...     ...               ...     ...    ...    ...    ...        ...     ...     ...      ...\n",
            "95           95         1       2     Gruska, Karen  female  53.00      0      0     325538   32.24     NaN        S\n",
            "96           96         1       2      Jordan, Emma  female  28.00      0      0     167707   26.46     NaN        Q\n",
            "97           97         1       1   Elliott, Monica  female  56.00      0      0   PC 11617  131.28   D7415        Q\n",
            "98           98         1       2      Bohn, Teresa  female   8.00      0      0        NaN   27.88     NaN        S\n",
            "99           99         1       1     Kanter, Betty  female  59.00      0      0      48662  278.56  C16097        C\n",
            "\n",
            "[100 rows x 12 columns]\n"
          ],
          "name": "stdout"
        }
      ]
    },
    {
      "cell_type": "code",
      "metadata": {
        "id": "CW5ANFHG1MaG"
      },
      "source": [
        "# Encode Categorical Values\n",
        "df_train[\"Sex\"] = pd.Categorical(df_train[\"Sex\"])\n",
        "df_train[\"Sex\"] = np.array(df_train.Sex.cat.codes)\n",
        "df_train[\"Embarked\"] = pd.Categorical(df_train[\"Embarked\"])\n",
        "df_train[\"Embarked\"] = np.array(df_train.Embarked.cat.codes)\n",
        "\n",
        "# Create Dataset\n",
        "X = np.array(df_train[[\"Sex\", \"Embarked\", \"Pclass\"]])\n",
        "labels = np.array(df_train[\"Survived\"])"
      ],
      "execution_count": 76,
      "outputs": []
    },
    {
      "cell_type": "code",
      "metadata": {
        "colab": {
          "base_uri": "https://localhost:8080/"
        },
        "id": "k76xz0R3HPn4",
        "outputId": "92720426-889c-4a0e-e7ec-c98ee3d49a28"
      },
      "source": [
        "X"
      ],
      "execution_count": 77,
      "outputs": [
        {
          "output_type": "execute_result",
          "data": {
            "text/plain": [
              "array([[1, 2, 1],\n",
              "       [1, 2, 3],\n",
              "       [1, 2, 3],\n",
              "       ...,\n",
              "       [1, 2, 3],\n",
              "       [1, 2, 3],\n",
              "       [1, 2, 3]])"
            ]
          },
          "metadata": {
            "tags": []
          },
          "execution_count": 77
        }
      ]
    },
    {
      "cell_type": "code",
      "metadata": {
        "id": "UnpvJWZz1MaH"
      },
      "source": [
        "# Imputation of nan values\n",
        "df_train['Embarked'] = df_train['Embarked'].replace(-1, np.nan)\n",
        "from sklearn.impute import KNNImputer\n",
        "\n",
        "imputer = KNNImputer(n_neighbors=2, weights=\"uniform\")\n",
        "X = imputer.fit_transform(X)"
      ],
      "execution_count": 78,
      "outputs": []
    },
    {
      "cell_type": "code",
      "metadata": {
        "colab": {
          "base_uri": "https://localhost:8080/"
        },
        "id": "tRxEl2a3edhW",
        "outputId": "424d70d8-6bbb-4eb4-8d52-a06e221f7fe0"
      },
      "source": [
        "print(np.isnan(X).any())"
      ],
      "execution_count": 79,
      "outputs": [
        {
          "output_type": "stream",
          "text": [
            "False\n"
          ],
          "name": "stdout"
        }
      ]
    },
    {
      "cell_type": "code",
      "metadata": {
        "id": "KtVAE_W9nhlf"
      },
      "source": [
        "# Split into train and validation datasets\n",
        "X_train, X_valid, y_train, y_valid = train_test_split(X, labels, test_size=0.33)"
      ],
      "execution_count": 80,
      "outputs": []
    },
    {
      "cell_type": "markdown",
      "metadata": {
        "id": "YBmSbNn9GeVR"
      },
      "source": [
        "## Define and compile Classification model"
      ]
    },
    {
      "cell_type": "code",
      "metadata": {
        "id": "sDNJF9z7hebV"
      },
      "source": [
        "# Define the model\n",
        "model = Sequential()\n",
        "model.add(Dense(20, \n",
        "                kernel_initializer='random_normal',\n",
        "                bias_initializer='zeros',\n",
        "                input_dim=3, \n",
        "                kernel_regularizer=tf.keras.regularizers.l2(0.01),\n",
        "                activation='relu'))\n",
        "model.add(Dense(1, activation='sigmoid'))"
      ],
      "execution_count": 81,
      "outputs": []
    },
    {
      "cell_type": "code",
      "metadata": {
        "colab": {
          "base_uri": "https://localhost:8080/"
        },
        "id": "mUafaSbJsNQo",
        "outputId": "b629d692-3848-43ae-9620-3289aaf8a410"
      },
      "source": [
        "model.summary()"
      ],
      "execution_count": 82,
      "outputs": [
        {
          "output_type": "stream",
          "text": [
            "Model: \"sequential_3\"\n",
            "_________________________________________________________________\n",
            "Layer (type)                 Output Shape              Param #   \n",
            "=================================================================\n",
            "dense_6 (Dense)              (None, 20)                80        \n",
            "_________________________________________________________________\n",
            "dense_7 (Dense)              (None, 1)                 21        \n",
            "=================================================================\n",
            "Total params: 101\n",
            "Trainable params: 101\n",
            "Non-trainable params: 0\n",
            "_________________________________________________________________\n"
          ],
          "name": "stdout"
        }
      ]
    },
    {
      "cell_type": "code",
      "metadata": {
        "id": "o0XwTay_hwLd"
      },
      "source": [
        "model.compile(optimizer='adam', loss='binary_crossentropy', metrics=['accuracy'])"
      ],
      "execution_count": 85,
      "outputs": []
    },
    {
      "cell_type": "code",
      "metadata": {
        "id": "3Y8TBlVEtB-m"
      },
      "source": [
        "#opt = tf.optimizers.Adam(learning_rate=0.00001)\n",
        "#model.compile(optimizer=opt, loss='binary_crossentropy', metrics=['accuracy'])"
      ],
      "execution_count": 84,
      "outputs": []
    },
    {
      "cell_type": "markdown",
      "metadata": {
        "id": "ZD44ywQHGnol"
      },
      "source": [
        "## Train the model"
      ]
    },
    {
      "cell_type": "code",
      "metadata": {
        "colab": {
          "base_uri": "https://localhost:8080/"
        },
        "id": "Xoqmj51-h4ua",
        "outputId": "dc3698b0-9e71-4728-e42b-ae9b4975a50c"
      },
      "source": [
        "history = model.fit(X_train, \n",
        "          y_train, \n",
        "          epochs=10, \n",
        "          batch_size=32, \n",
        "          verbose=1, \n",
        "          validation_split=0.2\n",
        "          # validation_data=(X_valid, y_valid)\n",
        ")"
      ],
      "execution_count": 86,
      "outputs": [
        {
          "output_type": "stream",
          "text": [
            "Epoch 1/10\n",
            "1675/1675 [==============================] - 3s 1ms/step - loss: 0.5796 - accuracy: 0.6935 - val_loss: 0.5138 - val_accuracy: 0.7640\n",
            "Epoch 2/10\n",
            "1675/1675 [==============================] - 2s 1ms/step - loss: 0.5150 - accuracy: 0.7641 - val_loss: 0.5157 - val_accuracy: 0.7640\n",
            "Epoch 3/10\n",
            "1675/1675 [==============================] - 2s 1ms/step - loss: 0.5179 - accuracy: 0.7600 - val_loss: 0.5110 - val_accuracy: 0.7616\n",
            "Epoch 4/10\n",
            "1675/1675 [==============================] - 2s 1ms/step - loss: 0.5092 - accuracy: 0.7659 - val_loss: 0.5098 - val_accuracy: 0.7640\n",
            "Epoch 5/10\n",
            "1675/1675 [==============================] - 2s 1ms/step - loss: 0.5126 - accuracy: 0.7658 - val_loss: 0.5093 - val_accuracy: 0.7616\n",
            "Epoch 6/10\n",
            "1675/1675 [==============================] - 2s 1ms/step - loss: 0.5103 - accuracy: 0.7630 - val_loss: 0.5074 - val_accuracy: 0.7616\n",
            "Epoch 7/10\n",
            "1675/1675 [==============================] - 2s 1ms/step - loss: 0.5112 - accuracy: 0.7629 - val_loss: 0.5084 - val_accuracy: 0.7640\n",
            "Epoch 8/10\n",
            "1675/1675 [==============================] - 2s 1ms/step - loss: 0.5136 - accuracy: 0.7603 - val_loss: 0.5071 - val_accuracy: 0.7616\n",
            "Epoch 9/10\n",
            "1675/1675 [==============================] - 2s 1ms/step - loss: 0.5105 - accuracy: 0.7600 - val_loss: 0.5069 - val_accuracy: 0.7640\n",
            "Epoch 10/10\n",
            "1675/1675 [==============================] - 2s 1ms/step - loss: 0.5066 - accuracy: 0.7641 - val_loss: 0.5073 - val_accuracy: 0.7640\n"
          ],
          "name": "stdout"
        }
      ]
    },
    {
      "cell_type": "markdown",
      "metadata": {
        "id": "qT72FuIYG9KY"
      },
      "source": [
        "## Evaluate the model on validation data"
      ]
    },
    {
      "cell_type": "code",
      "metadata": {
        "id": "Hxl7C0soh-56",
        "colab": {
          "base_uri": "https://localhost:8080/"
        },
        "outputId": "429f6d17-1c5a-4986-cdc8-81d6ec713086"
      },
      "source": [
        "loss = model.evaluate(X_valid, y_valid, verbose=0)\n",
        "print(loss)"
      ],
      "execution_count": 87,
      "outputs": [
        {
          "output_type": "stream",
          "text": [
            "[0.5046737194061279, 0.7673333287239075]\n"
          ],
          "name": "stdout"
        }
      ]
    },
    {
      "cell_type": "markdown",
      "metadata": {
        "id": "fA6lvCqRHGr-"
      },
      "source": [
        "## Make predictions os validation data"
      ]
    },
    {
      "cell_type": "code",
      "metadata": {
        "colab": {
          "base_uri": "https://localhost:8080/"
        },
        "id": "w_orWMdJloRY",
        "outputId": "874870e0-7011-4ade-d177-48667f274029"
      },
      "source": [
        "y_valid"
      ],
      "execution_count": null,
      "outputs": [
        {
          "output_type": "execute_result",
          "data": {
            "text/plain": [
              "array([1, 0, 1, ..., 0, 1, 1])"
            ]
          },
          "metadata": {
            "tags": []
          },
          "execution_count": 134
        }
      ]
    },
    {
      "cell_type": "code",
      "metadata": {
        "id": "i38Z_PRTiBc3",
        "colab": {
          "base_uri": "https://localhost:8080/"
        },
        "outputId": "c67706d2-6557-4ffe-b21c-5fd37a344e38"
      },
      "source": [
        "yhat = model.predict(X_valid)\n",
        "print(yhat)"
      ],
      "execution_count": null,
      "outputs": [
        {
          "output_type": "stream",
          "text": [
            "[[0.41861227]\n",
            " [0.2769578 ]\n",
            " [0.5777548 ]\n",
            " ...\n",
            " [0.29545367]\n",
            " [0.5777548 ]\n",
            " [0.45967266]]\n"
          ],
          "name": "stdout"
        }
      ]
    },
    {
      "cell_type": "code",
      "metadata": {
        "colab": {
          "base_uri": "https://localhost:8080/"
        },
        "id": "6wjU4z_lAaOb",
        "outputId": "4f2d0cad-107b-4307-edbf-0e2b9a609ace"
      },
      "source": [
        "y_valid"
      ],
      "execution_count": null,
      "outputs": [
        {
          "output_type": "execute_result",
          "data": {
            "text/plain": [
              "array([1, 0, 1, ..., 0, 1, 1])"
            ]
          },
          "metadata": {
            "tags": []
          },
          "execution_count": 136
        }
      ]
    },
    {
      "cell_type": "code",
      "metadata": {
        "id": "6LfV_Mqbj-HT"
      },
      "source": [
        "y_class = np.where(yhat > 0.5, 1, 0)\n"
      ],
      "execution_count": null,
      "outputs": []
    },
    {
      "cell_type": "code",
      "metadata": {
        "id": "eB2ZmEFclBiD"
      },
      "source": [
        "y_class = y_class.squeeze()"
      ],
      "execution_count": null,
      "outputs": []
    },
    {
      "cell_type": "code",
      "metadata": {
        "colab": {
          "base_uri": "https://localhost:8080/"
        },
        "id": "svh23v1o0gBt",
        "outputId": "a4f029b6-32cc-4b84-83a8-5596778c2663"
      },
      "source": [
        "y_class"
      ],
      "execution_count": null,
      "outputs": [
        {
          "output_type": "execute_result",
          "data": {
            "text/plain": [
              "array([0, 0, 1, ..., 0, 1, 0])"
            ]
          },
          "metadata": {
            "tags": []
          },
          "execution_count": 139
        }
      ]
    },
    {
      "cell_type": "markdown",
      "metadata": {
        "id": "tzcOjVZNGZC1"
      },
      "source": [
        "# Predict Labels on Test Set"
      ]
    },
    {
      "cell_type": "code",
      "metadata": {
        "colab": {
          "base_uri": "https://localhost:8080/"
        },
        "id": "wMH_Hj0N5q_4",
        "outputId": "25486676-a194-4938-ed84-f08a7bc5c95f"
      },
      "source": [
        "df_test = pd.read_csv('/content/playground/test.csv')\n",
        "print(df_test.columns)\n",
        "print(len(df_test.columns))\n",
        "print(df_test.head())"
      ],
      "execution_count": null,
      "outputs": [
        {
          "output_type": "stream",
          "text": [
            "Index(['PassengerId', 'Pclass', 'Name', 'Sex', 'Age', 'SibSp', 'Parch', 'Ticket', 'Fare', 'Cabin', 'Embarked'], dtype='object')\n",
            "11\n",
            "   PassengerId  Pclass              Name     Sex   Age  SibSp  Parch  Ticket   Fare   Cabin Embarked\n",
            "0       100000       3  Holliday, Daniel    male  19.0      0      0   24745  63.01     NaN        S\n",
            "1       100001       3  Nguyen, Lorraine  female  53.0      0      0   13264   5.81     NaN        S\n",
            "2       100002       1   Harris, Heather  female  19.0      0      0   25990  38.91  B15315        C\n",
            "3       100003       2      Larsen, Eric    male  25.0      0      0  314011  12.93     NaN        S\n",
            "4       100004       1     Cleary, Sarah  female  17.0      0      2   26203  26.89  B22515        C\n"
          ],
          "name": "stdout"
        }
      ]
    },
    {
      "cell_type": "code",
      "metadata": {
        "id": "jH41_zRe5Z2u"
      },
      "source": [
        "# Preprocessing categorical data\n",
        "df_test[\"Sex\"] = pd.Categorical(df_test[\"Sex\"])\n",
        "df_test[\"Sex\"] = np.array(df_test.Sex.cat.codes)\n",
        "df_test[\"Embarked\"] = pd.Categorical(df_test[\"Embarked\"])\n",
        "df_test[\"Embarked\"] = np.array(df_test.Embarked.cat.codes)"
      ],
      "execution_count": null,
      "outputs": []
    },
    {
      "cell_type": "code",
      "metadata": {
        "id": "WFAWud5mFfMf"
      },
      "source": [
        "# Create Dataset\n",
        "X = np.array(df_test[[\"Sex\", \"Embarked\", \"Pclass\"]])"
      ],
      "execution_count": null,
      "outputs": []
    },
    {
      "cell_type": "code",
      "metadata": {
        "id": "xL6HYo0O5-gi"
      },
      "source": [
        "# Imputation of nan values\n",
        "df_train['Embarked'] = df_train['Embarked'].replace(-1, np.nan)\n",
        "from sklearn.impute import KNNImputer\n",
        "imputer = KNNImputer(n_neighbors=2, weights=\"uniform\")\n",
        "X = imputer.fit_transform(X)"
      ],
      "execution_count": null,
      "outputs": []
    },
    {
      "cell_type": "code",
      "metadata": {
        "id": "yXKmA0RG6Sv8"
      },
      "source": [
        "df_test.isnull().any()"
      ],
      "execution_count": null,
      "outputs": []
    },
    {
      "cell_type": "code",
      "metadata": {
        "id": "ZsKKvlue9T4x"
      },
      "source": [
        "# Create Test Dataset\n",
        "X_test = np.array(df_test[[\"Sex\", \"Embarked\", \"Pclass\"]])\n",
        "PIds = np.array(df_test[\"PassengerId\"])\n"
      ],
      "execution_count": null,
      "outputs": []
    },
    {
      "cell_type": "code",
      "metadata": {
        "id": "Bv6KplBW95He"
      },
      "source": [
        "Y_hat = model.predict(X_test) \n",
        "Y_class = np.where(Y_hat > 0.5, 1, 0)"
      ],
      "execution_count": null,
      "outputs": []
    },
    {
      "cell_type": "code",
      "metadata": {
        "id": "50JkoQeX-YGr"
      },
      "source": [
        "df_classif = pd.DataFrame(data=[PIds, Y_class.squeeze()]).T\n",
        "df_classif.columns = [\"PassengerId\", \"Survived\"]"
      ],
      "execution_count": null,
      "outputs": []
    },
    {
      "cell_type": "code",
      "metadata": {
        "id": "vduh832kFCzf"
      },
      "source": [
        "df_classif.head()"
      ],
      "execution_count": null,
      "outputs": []
    },
    {
      "cell_type": "code",
      "metadata": {
        "id": "t79I-TbXBqyE"
      },
      "source": [
        "# Save file to submit\n",
        "df_classif.to_csv(\"classifications.csv\", index=False)"
      ],
      "execution_count": null,
      "outputs": []
    },
    {
      "cell_type": "markdown",
      "metadata": {
        "id": "ZCKDR-LIG6qS"
      },
      "source": [
        "# Draft"
      ]
    },
    {
      "cell_type": "code",
      "metadata": {
        "id": "ooYc910ZFjbi"
      },
      "source": [
        "# optional model\n",
        "# create an instance of a neural network:\n",
        "k_model = Sequential()\n",
        "n = 3\n",
        "# the first hidden layer must have input dimensions:\n",
        "k_model.add(Dense(10, activation='relu',\n",
        "                  kernel_regularizer=tf.keras.regularizers.l2(0.01),\n",
        "                  input_dim=n))\n",
        "# additional hidden layers are optional:\n",
        "k_model.add(Dense(20, activation='relu',\n",
        "                  kernel_regularizer=tf.keras.regularizers.l2(0.01)))\n",
        "# the output layer- a binary classifier w/sigmoid activation:\n",
        "k_model.add(Dense(1, activation='sigmoid',\n",
        "                 kernel_regularizer=tf.keras.regularizers.l2(0.01)))\n",
        "\n",
        "# Compile the model with Adam optimizer:\n",
        "k_model.compile(#optimizer=Adam(lr=1e-1),\n",
        "                optimizer=\"adam\",\n",
        "                loss='binary_crossentropy',\n",
        "                metrics=['accuracy'])\n",
        "\n",
        "# Define a learning rate decay method:\n",
        "#lr_decay = ReduceLROnPlateau(monitor='loss',\n",
        "#                             patience=1,\n",
        "#                             verbose=0,\n",
        "#                             factor=0.5,\n",
        "#                             min_lr=1e-7)\n",
        "# Train the model:\n",
        "k_model.fit(X_train, \n",
        "            y_train, \n",
        "            epochs=20,\n",
        "            #callbacks=[lr_decay], \n",
        "            verbose=1,\n",
        "            validation_data=(X_valid, y_valid)\n",
        "            )"
      ],
      "execution_count": null,
      "outputs": []
    }
  ]
}